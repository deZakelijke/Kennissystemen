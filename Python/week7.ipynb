{
 "cells": [
  {
   "cell_type": "markdown",
   "metadata": {},
   "source": [
    "# Assignment week 7\n",
    "\n",
    "## Notebook made by   (If not filled in correctly: 0 pts for assignment)\n",
    "\n",
    "__Name(s)__: Micha de Groot & Kaj Meijer\n",
    "\n",
    "__Student id(s)__ : 10434410 & 10509534\n",
    "\n",
    "### Pledge (taken from [Coursera's Honor Code](https://www.coursera.org/about/terms/honorcode) )\n",
    "\n",
    "\n",
    "\n",
    "Put here a selfie with your photo where you hold a signed paper with the following text: (if this is team work, put two selfies here). The link must be to some place on the web, not to a local file. **Assignments without the selfies will not be graded and receive 0 points.**\n",
    "\n",
    "> My answers to homework, quizzes and exams will be my own work (except for assignments that explicitly permit collaboration).\n",
    "\n",
    ">I will not make solutions to homework, quizzes or exams available to anyone else. This includes both solutions written by me, as well as any official solutions provided by the course staff.\n",
    "\n",
    ">I will not engage in any other activities that will dishonestly improve my results or dishonestly improve/hurt the results of others.\n",
    "\n",
    "[Selfie](http://imgur.com/RiMa4YY)"
   ]
  },
  {
   "cell_type": "markdown",
   "metadata": {},
   "source": [
    " \n",
    "In this task we will try to expand the information that we find in the infoboxes using WordNet.\n",
    "\n",
    "We follow the idea described in the YAGO paper: a string like `a beautiful actress from Denmark` is chopped up in a pre-modifier, a head and a post modifier. Here the head obviously is `actress`. \n",
    "\n",
    "## The tasks\n",
    "\n",
    " We perfom the task on a spreadsheet containing information about almost 1M persons found in the english Wikipedia.\n",
    "In particular we are interested in the  `description` column.\n",
    "\n",
    "1. (20%) For each string in the `description` column do the following:\n",
    "    1. Determine pre-modifier,  head and  post modifier: store these in new columns\n",
    "2.  (20%) For each head, determine the list of all ancestors of that head in WordNet up to \"person\": store this list in a new column.\n",
    "3. (20%) Use Hearst patterns to extract something like the `description` from the `rdf-schema#comment`\n",
    "    * Add your version as a new column\n",
    "    * Design a comparison of your work with the description column which outputs something like accuracy/precision/recall. You are free, as long as you do it well.\n",
    "4. (20%) Use Hearst patterns plus whatever else you like to extract the nationatility of the person described.\n",
    "    * Include a brief evaluation.\n",
    "2(actually 5). (20%) We are interested in gender aspects. Can you answer these questions:\n",
    "    1. Can we determine the gender from the person from the description and its expansion? \n",
    "        * E.g., we could say it is a female if it was actress, but probably not say it is a male if it was actor\n",
    "    2. There are two columns indicating the gender of the persons. One is made based on the first name, the other on the 3rd person pronouns in the longer description. Both are fairly accurate (more than .9 precision). Can you find a couple of remarkable differences between males and females based on your extracted wordnet concepts?\n",
    "\n",
    "## Data\n",
    "Available at <http://maartenmarx.nl/teaching/KennisSystemen/Data/PersonDF_naam_sex_description_snippet.csv.gz>\n",
    "    \n",
    "## Hints\n",
    "* Do this in a python notebook, using pandas, and possibly the pattern module for parsing the description.\n",
    "* Make a 10K version of the file and experiment with that first."
   ]
  },
  {
   "cell_type": "code",
   "execution_count": 46,
   "metadata": {
    "collapsed": false
   },
   "outputs": [
    {
     "name": "stdout",
     "output_type": "stream",
     "text": [
      "[u'Geographer/NN/B-NP/O', u'Photographer/NNP/I-NP/O']\n",
      "Pre:  []\n",
      "Head:  [u'Geographer/NN/B-NP/O', u'Photographer/NNP/I-NP/O']\n",
      "post:  []\n",
      "[u'']\n",
      "Pre:  []\n",
      "Head:  []\n",
      "post:  [u'']\n",
      "[u'Potential/JJ/B-NP/O', u'heiress/NN/I-NP/O', u'to/TO/O/O', u'the/DT/B-NP/O', u'Danish/JJ/I-NP/O', u'throne/NN/I-NP/O']\n",
      "Pre:  [u'Potential/JJ/B-NP/O', u'Danish/JJ/I-NP/O']\n",
      "Head:  [u'heiress/NN/I-NP/O', u'throne/NN/I-NP/O']\n",
      "post:  []\n",
      "[u'Queen/NNP/B-NP/O', u'consort/NN/I-NP/O', u'of/IN/B-PP/B-PNP', u'France/NNP-LOC/B-NP/I-PNP']\n",
      "Pre:  []\n",
      "Head:  [u'Queen/NNP/B-NP/O', u'consort/NN/I-NP/O']\n",
      "post:  [u'of/IN/B-PP/B-PNP', u'France/NNP-LOC/B-NP/I-PNP']\n",
      "[u'Queen/NNP/B-NP/O', u'consort/NN/I-NP/O', u'of/IN/B-PP/B-PNP', u'Norway/NNP-LOC/B-NP/I-PNP']\n",
      "Pre:  []\n",
      "Head:  [u'Queen/NNP/B-NP/O', u'consort/NN/I-NP/O']\n",
      "post:  [u'of/IN/B-PP/B-PNP', u'Norway/NNP-LOC/B-NP/I-PNP']\n",
      "[u'Abbess/NNP/B-NP/O', u'of/IN/B-PP/B-PNP', u'Vadstena/NNP/B-NP/I-PNP', u'Abbey/NNP/I-NP/I-PNP']\n",
      "Pre:  []\n",
      "Head:  [u'Abbess/NNP/B-NP/O', u'Vadstena/NNP/B-NP/I-PNP', u'Abbey/NNP/I-NP/I-PNP']\n",
      "post:  [u'of/IN/B-PP/B-PNP', u'Vadstena/NNP/B-NP/I-PNP', u'Abbey/NNP/I-NP/I-PNP']\n",
      "[u'Swedish/NNP/B-NP/O', u'Princess/NNP/I-NP/O']\n",
      "Pre:  []\n",
      "Head:  [u'Swedish/NNP/B-NP/O', u'Princess/NNP/I-NP/O']\n",
      "post:  []\n",
      "[u'German/JJ/B-NP/O', u'actor/NN/I-NP/O']\n",
      "Pre:  [u'German/JJ/B-NP/O']\n",
      "Head:  [u'actor/NN/I-NP/O']\n",
      "post:  []\n",
      "[u'Actress/NNP/B-NP/O']\n",
      "Pre:  []\n",
      "Head:  [u'Actress/NNP/B-NP/O']\n",
      "post:  []\n",
      "[u'Norwegian/JJ/B-NP/O', u'activist/NN/I-NP/O']\n",
      "Pre:  [u'Norwegian/JJ/B-NP/O']\n",
      "Head:  [u'activist/NN/I-NP/O']\n",
      "post:  []\n",
      "[u'Norwegian/JJ/B-NP/O', u'singer-songwriter/NN/I-NP/O']\n",
      "Pre:  [u'Norwegian/JJ/B-NP/O']\n",
      "Head:  [u'singer-songwriter/NN/I-NP/O']\n",
      "post:  []\n",
      "[u'Jazz/NNP/B-NP/O', u'musician/NN/I-NP/O']\n",
      "Pre:  []\n",
      "Head:  [u'Jazz/NNP/B-NP/O', u'musician/NN/I-NP/O']\n",
      "post:  []\n",
      "[u'Norwegian/JJ/B-NP/O', u'politician/NN/I-NP/O']\n",
      "Pre:  [u'Norwegian/JJ/B-NP/O']\n",
      "Head:  [u'politician/NN/I-NP/O']\n",
      "post:  []\n",
      "[u'Norwegian/JJ/B-NP/O', u'mathematician/NN/I-NP/O']\n",
      "Pre:  [u'Norwegian/JJ/B-NP/O']\n",
      "Head:  [u'mathematician/NN/I-NP/O']\n",
      "post:  []\n",
      "[u'Norwegian/JJ/B-NP/O', u'politician/NN/I-NP/O']\n",
      "Pre:  [u'Norwegian/JJ/B-NP/O']\n",
      "Head:  [u'politician/NN/I-NP/O']\n",
      "post:  []\n",
      "[u'Norwegian/JJ/B-NP/O', u'marketing/NN/I-NP/O', u'writer/NN/I-NP/O']\n",
      "Pre:  [u'Norwegian/JJ/B-NP/O']\n",
      "Head:  [u'marketing/NN/I-NP/O', u'writer/NN/I-NP/O']\n",
      "post:  []\n",
      "[u'Norwegian/JJ/B-NP/O', u'sculptor/NN/I-NP/O']\n",
      "Pre:  [u'Norwegian/JJ/B-NP/O']\n",
      "Head:  [u'sculptor/NN/I-NP/O']\n",
      "post:  []\n",
      "[u'']\n",
      "Pre:  []\n",
      "Head:  []\n",
      "post:  [u'']\n",
      "[u'Rower/NN/B-NP/O']\n",
      "Pre:  []\n",
      "Head:  [u'Rower/NN/B-NP/O']\n",
      "post:  []\n",
      "[u'Swedish/NNP/B-NP/O', u'Queen/NNP/I-NP/O', u'consort/NN/I-NP/O']\n",
      "Pre:  []\n",
      "Head:  [u'Swedish/NNP/B-NP/O', u'Queen/NNP/I-NP/O', u'consort/NN/I-NP/O']\n",
      "post:  []\n"
     ]
    }
   ],
   "source": [
    "# Opgave 1\n",
    "from pattern.en import pprint, parse\n",
    "import csv\n",
    "import re \n",
    "\n",
    "\n",
    "with open('new2.csv', 'rb') as csvfile:\n",
    "    csvReader = csv.reader(csvfile, delimiter='\\t')\n",
    "    for row in csvReader:\n",
    "        splitRow = row[0].split(',')[3]\n",
    "        splitRow = parse(splitRow).split(' ')\n",
    "        print splitRow\n",
    "        pre = []\n",
    "        head = []\n",
    "        post = []\n",
    "        for word in splitRow:\n",
    "            if re.match('.*/NN(P)?/.*', word):\n",
    "                #print word, \"NN\"\n",
    "                head.append(word)\n",
    "            if re.match('.*/JJ/.*', word):\n",
    "                #print word, \"JJ\"\n",
    "                pre.append(word)\n",
    "            if not re.match('.*/O', word):\n",
    "                #print word, \"Not O\"\n",
    "                post.append(word)\n",
    "        print \"Pre: \", pre\n",
    "        print \"Head: \", head\n",
    "        print \"post: \", post"
   ]
  },
  {
   "cell_type": "code",
   "execution_count": 1,
   "metadata": {
    "collapsed": false
   },
   "outputs": [
    {
     "name": "stdout",
     "output_type": "stream",
     "text": [
      "[Synset('professional.n.01')]\n",
      "[Synset('adult.n.01')]\n",
      "[Synset('person.n.01')]\n"
     ]
    }
   ],
   "source": [
    "# Opgave 2\n",
    "from nltk.corpus import wordnet as wn\n",
    "\n",
    "head = wn.synset('lawyer.n.01')\n",
    "hypernym = head.hypernyms()\n",
    "print hypernym\n",
    "while(str(hypernym) != \"[Synset('person.n.01')]\"):\n",
    "    hypernym = hypernym[0].hypernyms()\n",
    "    print hypernym"
   ]
  },
  {
   "cell_type": "code",
   "execution_count": 77,
   "metadata": {
    "collapsed": false
   },
   "outputs": [
    {
     "name": "stdout",
     "output_type": "stream",
     "text": [
      "abbess of the Bridgettine Abbey of Vadstena\n",
      "Desc:  a Swedish nun and noble the first official abbess of the Bridgettine Abbey of Vadstena in 1385/88–1403 \n",
      "\n",
      "Swedish princess and a Grand Princess of Kiev\n",
      "Desc:  a Swedish princess and a Grand Princess of Kiev \n",
      "\n",
      "swedish politician\n",
      "Desc:  a Swedish Green Party politician \n",
      "\n",
      "Swedish politician\n",
      "Desc:  a Swedish Moderate Party politician \n",
      "\n",
      "\n",
      "Desc:  a Swedish-Norwegian royal servant \n",
      "\n",
      "Canoe racer\n",
      "Desc:  a Swedish sprint canoer who competed from the mid-1990s to the early 2000s (decade) \n",
      "\n",
      "Swedish songwriter\n",
      "Desc:  a Swedish lyricist in popular music \n",
      "\n",
      "Swedish privateer\n",
      "Desc:  a Swedish privateer in service of King Charles XII of Sweden during the Great Northern War \n",
      "\n",
      "Actress\n",
      "Desc:  a Swedish actress \n",
      "\n",
      "Norwegian politician\n",
      "Desc:  a Norwegian civil servant and politician \n",
      "\n",
      "Swedish author(children books)\n",
      "Desc:  a Swedish author \n",
      "\n",
      "Norwegian police chief\n",
      "Desc:  a Norwegian jurist and the current Police Commissioner in the National Police Directorate \n",
      "\n",
      "German rower\n",
      "Desc:  a retired German rower who won a gold a silver and a bronze medal in the quadruple sculls at the European championships of 1966 1968 and 1969 respectively \n",
      "\n",
      "Swedish economist/Professor;Lund University Lund\n",
      "Desc:  a Swedish economist Professor at the Lund University Lund known for his international bestseller Methodology for Creating Business Knowledge written with Björn Bjerke \n",
      "\n",
      "Swedish canoeist\n",
      "Desc:  a Swedish sprint canoer who competed in the late 1940s and early 1950s \n",
      "\n",
      "Swedish poker player and snowboarder\n",
      "Desc:  a professional snowboarder famous for setting the world record highest air out of a quarter-pipe (8 \n",
      "\n",
      "South African surfer\n",
      "Desc:  a semi professional surfer from East London South Africa \n",
      "\n",
      "Swedish footballers\n",
      "Desc:  a former Swedish footballer \n",
      "\n",
      "Swedish footballer\n",
      "Desc:  a Swedish football goalkeeper who played for Sweden in the 1958 FIFA World Cup \n",
      "\n",
      "Canoe racer\n",
      "Desc:  a Swedish sprint canoer who competed in the early 1950s \n",
      "\n"
     ]
    }
   ],
   "source": [
    "# Opgave 3\n",
    "from pattern.en import pprint, parse\n",
    "import csv\n",
    "import re \n",
    "\n",
    "\n",
    "def hearstPattern(text):\n",
    "    #text = text.split('.')[0]\n",
    "    if re.match('.* was .*', text):\n",
    "        text = re.split(\" was \", text)\n",
    "        if re.match('.* is .*', text[0]):\n",
    "            text = re.split(\" is \", text[0])\n",
    "            text = text[1].split('.')[0]\n",
    "            print \"Desc: \", text, \"\\n\"\n",
    "        else:\n",
    "            text = text[1].split('.')[0]\n",
    "            print \"Desc: \", text, \"\\n\"\n",
    "    elif re.match('.* is .*', text):\n",
    "        text = re.split(\" is \", text)\n",
    "        text = text[1].split('.')[0]\n",
    "        print \"Desc: \", text, \"\\n\"\n",
    "    return text\n",
    "\n",
    "with open('new3.csv', 'rb') as csvfile:\n",
    "    csvReader = csv.reader(csvfile, delimiter='\\t')\n",
    "    for row in csvReader:\n",
    "        comment = row[0].split(',')[5]\n",
    "        originalDescription = row[0].split(',')[3]\n",
    "        print originalDescription\n",
    "        #print comment\n",
    "        pattern = hearstPattern(comment)\n",
    "        #print pattern"
   ]
  },
  {
   "cell_type": "markdown",
   "metadata": {},
   "source": [
    "Opgave 5.1\n",
    "\n",
    "It is possible to detemine the gender of the person from the description if it contains gender specific terms. Most of the gender specific terms are female terms like actress, where actor could be male of female. "
   ]
  },
  {
   "cell_type": "markdown",
   "metadata": {},
   "source": [
    "Opgave 5.2\n",
    "\n",
    "!!! We need data for this. !!!"
   ]
  },
  {
   "cell_type": "code",
   "execution_count": 8,
   "metadata": {
    "collapsed": false
   },
   "outputs": [
    {
     "name": "stdout",
     "output_type": "stream",
     "text": [
      "a/DT/B-NP/O beautiful/JJ/I-NP/O actress/NN/I-NP/O from/IN/B-PP/B-PNP Denmark/NNP-LOC/B-NP/I-PNP walks/VBD/B-VP/O\n"
     ]
    }
   ],
   "source": [
    "# http://www.clips.ua.ac.be/pages/pattern-en#parser\n",
    ">>> from pattern.en import parse\n",
    ">>> print parse('a beautiful actress from Denmark walks')"
   ]
  },
  {
   "cell_type": "code",
   "execution_count": 9,
   "metadata": {
    "collapsed": false,
    "scrolled": true
   },
   "outputs": [
    {
     "name": "stdout",
     "output_type": "stream",
     "text": [
      "          WORD   TAG       CHUNK   ROLE   ID     PNP    LEMMA       \n",
      "                                                                    \n",
      "             a   DT        NP      -      -      -      a           \n",
      "     beautiful   JJ        NP ^    -      -      -      beautiful   \n",
      "       actress   NN        NP ^    -      -      -      actress     \n",
      "          from   IN        PP      -      -      PNP    from        \n",
      "       Denmark   NNP-LOC   NP      -      -      PNP    denmark     \n",
      "         walks   VBD       VP      -      -      -      walk        \n"
     ]
    }
   ],
   "source": [
    "from pattern.en import pprint, parse\n",
    "pprint(parse('a beautiful actress from Denmark walks', lemmata=True))"
   ]
  },
  {
   "cell_type": "code",
   "execution_count": 6,
   "metadata": {
    "collapsed": false
   },
   "outputs": [
    {
     "name": "stdout",
     "output_type": "stream",
     "text": [
      "Pretty printing has been turned OFF\n"
     ]
    }
   ],
   "source": [
    "pprint(parse('Ingeborg Moen Borgerud  is a Norwegian lawyer businessperson and former politician for the Labour Party.'))"
   ]
  },
  {
   "cell_type": "code",
   "execution_count": 8,
   "metadata": {
    "collapsed": false
   },
   "outputs": [
    {
     "name": "stdout",
     "output_type": "stream",
     "text": [
      "(969996, 7)\n"
     ]
    },
    {
     "data": {
      "text/html": [
       "<div>\n",
       "<table border=\"1\" class=\"dataframe\">\n",
       "  <thead>\n",
       "    <tr style=\"text-align: right;\">\n",
       "      <th></th>\n",
       "      <th>rdf-schema#label</th>\n",
       "      <th>description</th>\n",
       "      <th>gender</th>\n",
       "      <th>rdf-schema#comment</th>\n",
       "      <th>gender_from_pronouns</th>\n",
       "      <th>comment_length</th>\n",
       "      <th>word_comment_length</th>\n",
       "    </tr>\n",
       "  </thead>\n",
       "  <tbody>\n",
       "    <tr>\n",
       "      <th>0</th>\n",
       "      <td>Ingeborg Moen Borgerud</td>\n",
       "      <td>Norwegian businesswoman and politician</td>\n",
       "      <td>U</td>\n",
       "      <td>Ingeborg Moen Borgerud (born 23 September 1949...</td>\n",
       "      <td>NaN</td>\n",
       "      <td>128</td>\n",
       "      <td>19</td>\n",
       "    </tr>\n",
       "    <tr>\n",
       "      <th>1</th>\n",
       "      <td>Ingeborg Nilsson</td>\n",
       "      <td>Figure skater</td>\n",
       "      <td>U</td>\n",
       "      <td>Ingeborg Nilsson (1924 – 1995) was a Norwegian...</td>\n",
       "      <td>female</td>\n",
       "      <td>247</td>\n",
       "      <td>41</td>\n",
       "    </tr>\n",
       "    <tr>\n",
       "      <th>2</th>\n",
       "      <td>Ingeborg Norell</td>\n",
       "      <td>Finnish heroine / life saver</td>\n",
       "      <td>U</td>\n",
       "      <td>Ingeborg Norell (born 1727) was the first Finn...</td>\n",
       "      <td>female</td>\n",
       "      <td>242</td>\n",
       "      <td>41</td>\n",
       "    </tr>\n",
       "    <tr>\n",
       "      <th>3</th>\n",
       "      <td>Ingeborg Pehrson</td>\n",
       "      <td>Danish actor</td>\n",
       "      <td>U</td>\n",
       "      <td>Ingeborg Pehrson (16 December 1886 - 11 April ...</td>\n",
       "      <td>NaN</td>\n",
       "      <td>88</td>\n",
       "      <td>16</td>\n",
       "    </tr>\n",
       "    <tr>\n",
       "      <th>4</th>\n",
       "      <td>Ingeborg Pfüller</td>\n",
       "      <td>Argentine shot putter and discus thrower</td>\n",
       "      <td>U</td>\n",
       "      <td>Ingeborg Ella Pfüller (born January 1 1932) wa...</td>\n",
       "      <td>female</td>\n",
       "      <td>301</td>\n",
       "      <td>52</td>\n",
       "    </tr>\n",
       "  </tbody>\n",
       "</table>\n",
       "</div>"
      ],
      "text/plain": [
       "         rdf-schema#label                               description gender  \\\n",
       "0  Ingeborg Moen Borgerud    Norwegian businesswoman and politician      U   \n",
       "1        Ingeborg Nilsson                             Figure skater      U   \n",
       "2         Ingeborg Norell              Finnish heroine / life saver      U   \n",
       "3        Ingeborg Pehrson                              Danish actor      U   \n",
       "4        Ingeborg Pfüller  Argentine shot putter and discus thrower      U   \n",
       "\n",
       "                                  rdf-schema#comment gender_from_pronouns  \\\n",
       "0  Ingeborg Moen Borgerud (born 23 September 1949...                  NaN   \n",
       "1  Ingeborg Nilsson (1924 – 1995) was a Norwegian...               female   \n",
       "2  Ingeborg Norell (born 1727) was the first Finn...               female   \n",
       "3  Ingeborg Pehrson (16 December 1886 - 11 April ...                  NaN   \n",
       "4  Ingeborg Ella Pfüller (born January 1 1932) wa...               female   \n",
       "\n",
       "   comment_length  word_comment_length  \n",
       "0             128                   19  \n",
       "1             247                   41  \n",
       "2             242                   41  \n",
       "3              88                   16  \n",
       "4             301                   52  "
      ]
     },
     "execution_count": 8,
     "metadata": {},
     "output_type": "execute_result"
    }
   ],
   "source": [
    "# read \n",
    "\n",
    "import pandas as pd\n",
    "Pdf = pd.read_csv('http://maartenmarx.nl/teaching/KennisSystemen/Data/PersonDF_naam_sex_description_snippet.csv.gz',\n",
    "                 compression='gzip')\n",
    "Pdf = Pdf[Pdf.columns[2:]]\n",
    "print Pdf.shape\n",
    "\n",
    "Pdf.head()"
   ]
  },
  {
   "cell_type": "code",
   "execution_count": 9,
   "metadata": {
    "collapsed": false
   },
   "outputs": [
    {
     "data": {
      "text/plain": [
       "0    4\n",
       "1    2\n",
       "2    5\n",
       "3    2\n",
       "4    6\n",
       "Name: Description_length, dtype: int64"
      ]
     },
     "execution_count": 9,
     "metadata": {},
     "output_type": "execute_result"
    }
   ],
   "source": [
    "# add some columns to Pdf \n",
    "\n",
    "# in this simple example we add the number of tokens in the description as a new column\n",
    "\n",
    "def telwoordjes(string):\n",
    "    return len(string.split())\n",
    "\n",
    "Pdf['Description_length']= Pdf.description.astype(str).apply(telwoordjes)\n",
    "\n",
    "Pdf.Description_length.head()"
   ]
  },
  {
   "cell_type": "code",
   "execution_count": 14,
   "metadata": {
    "collapsed": false
   },
   "outputs": [
    {
     "name": "stdout",
     "output_type": "stream",
     "text": [
      "CPU times: user 3.96 s, sys: 736 ms, total: 4.7 s\n",
      "Wall time: 4.72 s\n",
      "-rw-r--r--@ 1 admin  staff   351M Jul 28 16:24 PersonDF_naam_sex_description_snippetEXTRA.pkl\n",
      "CPU times: user 91.9 ms, sys: 26.2 ms, total: 118 ms\n",
      "Wall time: 22.8 s\n",
      "-rw-r--r--@ 1 admin  staff   124M Jul 28 16:24 PersonDF_naam_sex_description_snippetEXTRA.pkl.gz\n",
      "CPU times: user 8.9 ms, sys: 14.2 ms, total: 23.1 ms\n",
      "Wall time: 1.95 s\n",
      "CPU times: user 3.25 s, sys: 574 ms, total: 3.82 s\n",
      "Wall time: 3.85 s\n"
     ]
    }
   ],
   "source": [
    "# save, gzip, and load again\n",
    "\n",
    "%time Pdf.to_pickle('PersonDF_naam_sex_description_snippetEXTRA.pkl')\n",
    "\n",
    "%ls -lh 'PersonDF_naam_sex_description_snippetEXTRA.pkl'\n",
    "%time !gzip PersonDF_naam_sex_description_snippetEXTRA.pkl\n",
    "%ls -lh PersonDF_naam_sex_description_snippetEXTRA.pkl.gz\n",
    "%time !gunzip PersonDF_naam_sex_description_snippetEXTRA.pkl.gz\n",
    "# read \n",
    "\n",
    "%time Pdf = pd.read_pickle('PersonDF_naam_sex_description_snippetEXTRA.pkl')\n",
    "\n",
    "!rm PersonDF_naam_sex_description_snippetEXTRA.pkl"
   ]
  },
  {
   "cell_type": "code",
   "execution_count": 11,
   "metadata": {
    "collapsed": false
   },
   "outputs": [
    {
     "name": "stdout",
     "output_type": "stream",
     "text": [
      "Ingeborg Moen Borgerud (born 23 September 1949) is a Norwegian lawyer businessperson and former politician for the Labour Party.\n",
      "Ingeborg Nilsson (1924 – 1995) was a Norwegian figure skater. She competed at the 1952 Winter Olympics in Oslo.She was Norwegian individual champion in 1953 and 1954 and in pairs in 1956 1957 1958 and 1959 together with partner Reidar Børjeson.\n",
      "Ingeborg Norell (born 1727) was the first Finnish female to have received an official decoration and to have been the subject of a commemorative plaque. She was commemorated in recognition for her act which saved many lives in Tenala in 1780.\n",
      "Ingeborg Pehrson (16 December 1886 - 11 April 1950) was a Danish stage and film actress.\n",
      "Ingeborg Ella Pfüller (born January 1 1932) was a female track and field athlete from Argentina competing in the discus throw. She represented her native country at the 1952 Summer Olympics and won the gold medal in the women's discus throw event at the 1955 Pan American Games in Mexico City Mexico.\n",
      "Ingeborg Rasmussen (born July 5 1960) is a Norwegian sprint canoer who competed from the mid-1980s to the early 1990s. Competing in two Summer Olympics she earned her best finish of sixth in the K-4 500 m event at Los Angeles in 1984.\n",
      "Ingeborg Refling Hagen (19 December 1895 - 30 November 1989) was a Norwegian author and teacher.\n",
      "Ingeborg Reichelt (born 11 May 1928 in Frankfurt an der Oder) is a German soprano singer. She is known for singing works of Johann Sebastian Bach.\n",
      "Ingeborg Roelofs (born 1983) is a Dutch team handball player. She plays on the Dutch national team and participated at the 2011 World Women's Handball Championship in Brazil.\n",
      "Ingeborg Sørensen (born 16 May 1948 in Drammen Norway) is a Norwegian model. She was Playboy magazine's Playmate of the Month for its March 1975 issue.She was Miss Norway in 1972 and finished in second place in the 1972 Miss World competition (which was won by Australian Belinda Green).\n"
     ]
    }
   ],
   "source": [
    "# inspect the full descriptions\n",
    "\n",
    "for x in Pdf['rdf-schema#comment'][:10]:\n",
    "    print x"
   ]
  },
  {
   "cell_type": "code",
   "execution_count": null,
   "metadata": {
    "collapsed": true
   },
   "outputs": [],
   "source": []
  }
 ],
 "metadata": {
  "anaconda-cloud": {},
  "kernelspec": {
   "display_name": "Python 2",
   "language": "python",
   "name": "python2"
  },
  "language_info": {
   "codemirror_mode": {
    "name": "ipython",
    "version": 2
   },
   "file_extension": ".py",
   "mimetype": "text/x-python",
   "name": "python",
   "nbconvert_exporter": "python",
   "pygments_lexer": "ipython2",
   "version": "2.7.12"
  }
 },
 "nbformat": 4,
 "nbformat_minor": 0
}
