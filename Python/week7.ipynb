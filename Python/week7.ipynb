{
 "cells": [
  {
   "cell_type": "markdown",
   "metadata": {},
   "source": [
    "# Assignment week 7\n",
    "\n",
    "## Notebook made by   (If not filled in correctly: 0 pts for assignment)\n",
    "\n",
    "__Name(s)__: Micha de Groot & Kaj Meijer\n",
    "\n",
    "__Student id(s)__ : 10434410 & 10509534\n",
    "\n",
    "### Pledge (taken from [Coursera's Honor Code](https://www.coursera.org/about/terms/honorcode) )\n",
    "\n",
    "\n",
    "\n",
    "Put here a selfie with your photo where you hold a signed paper with the following text: (if this is team work, put two selfies here). The link must be to some place on the web, not to a local file. **Assignments without the selfies will not be graded and receive 0 points.**\n",
    "\n",
    "> My answers to homework, quizzes and exams will be my own work (except for assignments that explicitly permit collaboration).\n",
    "\n",
    ">I will not make solutions to homework, quizzes or exams available to anyone else. This includes both solutions written by me, as well as any official solutions provided by the course staff.\n",
    "\n",
    ">I will not engage in any other activities that will dishonestly improve my results or dishonestly improve/hurt the results of others.\n",
    "\n",
    "[Selfie](http://imgur.com/RiMa4YY)"
   ]
  },
  {
   "cell_type": "markdown",
   "metadata": {},
   "source": [
    " \n",
    "In this task we will try to expand the information that we find in the infoboxes using WordNet.\n",
    "\n",
    "We follow the idea described in the YAGO paper: a string like `a beautiful actress from Denmark` is chopped up in a pre-modifier, a head and a post modifier. Here the head obviously is `actress`. \n",
    "\n",
    "## The tasks\n",
    "\n",
    " We perfom the task on a spreadsheet containing information about almost 1M persons found in the english Wikipedia.\n",
    "In particular we are interested in the  `description` column.\n",
    "\n",
    "1. (20%) For each string in the `description` column do the following:\n",
    "    1. Determine pre-modifier,  head and  post modifier: store these in new columns\n",
    "2.  (20%) For each head, determine the list of all ancestors of that head in WordNet up to \"person\": store this list in a new column.\n",
    "3. (20%) Use Hearst patterns to extract something like the `description` from the `rdf-schema#comment`\n",
    "    * Add your version as a new column\n",
    "    * Design a comparison of your work with the description column which outputs something like accuracy/precision/recall. You are free, as long as you do it well.\n",
    "4. (20%) Use Hearst patterns plus whatever else you like to extract the nationatility of the person described.\n",
    "    * Include a brief evaluation.\n",
    "2(actually 5). (20%) We are interested in gender aspects. Can you answer these questions:\n",
    "    1. Can we determine the gender from the person from the description and its expansion? \n",
    "        * E.g., we could say it is a female if it was actress, but probably not say it is a male if it was actor\n",
    "    2. There are two columns indicating the gender of the persons. One is made based on the first name, the other on the 3rd person pronouns in the longer description. Both are fairly accurate (more than .9 precision). Can you find a couple of remarkable differences between males and females based on your extracted wordnet concepts?\n",
    "\n",
    "## Data\n",
    "Available at <http://maartenmarx.nl/teaching/KennisSystemen/Data/PersonDF_naam_sex_description_snippet.csv.gz>\n",
    "    \n",
    "## Hints\n",
    "* Do this in a python notebook, using pandas, and possibly the pattern module for parsing the description.\n",
    "* Make a 10K version of the file and experiment with that first."
   ]
  },
  {
   "cell_type": "code",
   "execution_count": 20,
   "metadata": {
    "collapsed": false
   },
   "outputs": [
    {
     "name": "stdout",
     "output_type": "stream",
     "text": [
      "['Mens en maatschappij in Japan', 'Criminaliteit in Japan']\n",
      "['Mens en maatschappij in Japan', 'Economie van Japan']\n",
      "['Mens en maatschappij in Japan', 'Krijgswezen van Japan']\n",
      "['Mens en maatschappij in Japan', 'Onderwijs in Japan']\n",
      "['Mens en maatschappij in Japan', 'Japanse organisatie']\n",
      "['Mens en maatschappij in Japan', 'Politiek in Japan']\n",
      "['Mens en maatschappij in Japan', 'Japans recht']\n",
      "['Mens en maatschappij in Japan', 'Recreatie in Japan']\n",
      "['Mens en maatschappij in Japan', 'Verkeer en vervoer in Japan']\n",
      "['Romeinen in Klein-Azi\\xc3\\xab', 'Koning van Pergamon']\n",
      "['Romeinen in Klein-Azi\\xc3\\xab', 'Mithridatische oorlogen']\n",
      "['Kok met Michelinster', 'Belgische kok met Michelinster']\n",
      "['Kok met Michelinster', 'Nederlandse kok met Michelinster']\n",
      "['Pleziervaart', 'Jachthaven']\n",
      "['Hogeronderwijsinstelling naar land', 'Hogeschool naar land']\n",
      "['Hogeronderwijsinstelling naar land', 'Lijsten van hogeronderwijsinstellingen']\n",
      "['Hogeronderwijsinstelling naar land', 'Universiteit naar land']\n",
      "['Hogeronderwijsinstelling naar land', 'Hogeronderwijsinstelling naar territorium']\n",
      "['Hogeronderwijsinstelling naar land', 'Hogeronderwijsinstelling in Albani\\xc3\\xab']\n",
      "['Hogeronderwijsinstelling naar land', 'Hogeronderwijsinstelling in Armeni\\xc3\\xab']\n",
      "['Hogeronderwijsinstelling naar land', 'Hogeronderwijsinstelling in Australi\\xc3\\xab']\n",
      "['Hogeronderwijsinstelling naar land', 'Hogeronderwijsinstelling in Azerbeidzjan']\n",
      "['Hogeronderwijsinstelling naar land', 'Hogeronderwijsinstelling in Belgi\\xc3\\xab']\n",
      "['Hogeronderwijsinstelling naar land', 'Hogeronderwijsinstelling in Canada']\n",
      "['Criminaliteit in Japan', 'Japans crimineel']\n",
      "['Criminaliteit in Japan', 'Japans misdaadslachtoffer']\n",
      "['Militair van de Geconfedereerde Staten', 'Generaal van de Geconfedereerde Staten']\n",
      "['Sonic the Hedgehog', 'Personage uit Sonic the Hedgehog']\n",
      "['Sonic the Hedgehog', 'Sonic the Hedgehog-spel']\n"
     ]
    }
   ],
   "source": [
    "# Opgave 1\n",
    "from pattern.en import pprint, parse\n",
    "import csv\n",
    "\n",
    "with open('categorie_diepte6_2.csv', 'rb') as csvfile:\n",
    "    csvReader = csv.reader(csvfile, delimiter='\\t')\n",
    "    for row in csvReader:\n",
    "        splitRow = row[0].split(',')[1:]\n",
    "        print splitRow"
   ]
  },
  {
   "cell_type": "code",
   "execution_count": 1,
   "metadata": {
    "collapsed": false
   },
   "outputs": [
    {
     "name": "stdout",
     "output_type": "stream",
     "text": [
      "[Synset('professional.n.01')]\n",
      "[Synset('adult.n.01')]\n",
      "[Synset('person.n.01')]\n"
     ]
    }
   ],
   "source": [
    "# Opgave 2\n",
    "from nltk.corpus import wordnet as wn\n",
    "\n",
    "head = wn.synset('lawyer.n.01')\n",
    "hypernym = head.hypernyms()\n",
    "print hypernym\n",
    "while(str(hypernym) != \"[Synset('person.n.01')]\"):\n",
    "    hypernym = hypernym[0].hypernyms()\n",
    "    print hypernym"
   ]
  },
  {
   "cell_type": "markdown",
   "metadata": {},
   "source": [
    "Opgave 5.1\n",
    "\n",
    "It is possible to detemine the gender of the person from the description if it contains gender specific terms. Most of the gender specific terms are female terms like actress, where actor could be male of female. "
   ]
  },
  {
   "cell_type": "markdown",
   "metadata": {},
   "source": [
    "Opgave 5.2\n",
    "\n",
    "!!! We need data for this. !!!"
   ]
  },
  {
   "cell_type": "code",
   "execution_count": 8,
   "metadata": {
    "collapsed": false
   },
   "outputs": [
    {
     "name": "stdout",
     "output_type": "stream",
     "text": [
      "a/DT/B-NP/O beautiful/JJ/I-NP/O actress/NN/I-NP/O from/IN/B-PP/B-PNP Denmark/NNP-LOC/B-NP/I-PNP walks/VBD/B-VP/O\n"
     ]
    }
   ],
   "source": [
    "# http://www.clips.ua.ac.be/pages/pattern-en#parser\n",
    ">>> from pattern.en import parse\n",
    ">>> print parse('a beautiful actress from Denmark walks')"
   ]
  },
  {
   "cell_type": "code",
   "execution_count": 9,
   "metadata": {
    "collapsed": false,
    "scrolled": true
   },
   "outputs": [
    {
     "name": "stdout",
     "output_type": "stream",
     "text": [
      "          WORD   TAG       CHUNK   ROLE   ID     PNP    LEMMA       \n",
      "                                                                    \n",
      "             a   DT        NP      -      -      -      a           \n",
      "     beautiful   JJ        NP ^    -      -      -      beautiful   \n",
      "       actress   NN        NP ^    -      -      -      actress     \n",
      "          from   IN        PP      -      -      PNP    from        \n",
      "       Denmark   NNP-LOC   NP      -      -      PNP    denmark     \n",
      "         walks   VBD       VP      -      -      -      walk        \n"
     ]
    }
   ],
   "source": [
    "from pattern.en import pprint, parse\n",
    "pprint(parse('a beautiful actress from Denmark walks', lemmata=True))"
   ]
  },
  {
   "cell_type": "code",
   "execution_count": 6,
   "metadata": {
    "collapsed": false
   },
   "outputs": [
    {
     "name": "stdout",
     "output_type": "stream",
     "text": [
      "Pretty printing has been turned OFF\n"
     ]
    }
   ],
   "source": [
    "pprint(parse('Ingeborg Moen Borgerud  is a Norwegian lawyer businessperson and former politician for the Labour Party.'))"
   ]
  },
  {
   "cell_type": "code",
   "execution_count": 8,
   "metadata": {
    "collapsed": false
   },
   "outputs": [
    {
     "name": "stdout",
     "output_type": "stream",
     "text": [
      "(969996, 7)\n"
     ]
    },
    {
     "data": {
      "text/html": [
       "<div>\n",
       "<table border=\"1\" class=\"dataframe\">\n",
       "  <thead>\n",
       "    <tr style=\"text-align: right;\">\n",
       "      <th></th>\n",
       "      <th>rdf-schema#label</th>\n",
       "      <th>description</th>\n",
       "      <th>gender</th>\n",
       "      <th>rdf-schema#comment</th>\n",
       "      <th>gender_from_pronouns</th>\n",
       "      <th>comment_length</th>\n",
       "      <th>word_comment_length</th>\n",
       "    </tr>\n",
       "  </thead>\n",
       "  <tbody>\n",
       "    <tr>\n",
       "      <th>0</th>\n",
       "      <td>Ingeborg Moen Borgerud</td>\n",
       "      <td>Norwegian businesswoman and politician</td>\n",
       "      <td>U</td>\n",
       "      <td>Ingeborg Moen Borgerud (born 23 September 1949...</td>\n",
       "      <td>NaN</td>\n",
       "      <td>128</td>\n",
       "      <td>19</td>\n",
       "    </tr>\n",
       "    <tr>\n",
       "      <th>1</th>\n",
       "      <td>Ingeborg Nilsson</td>\n",
       "      <td>Figure skater</td>\n",
       "      <td>U</td>\n",
       "      <td>Ingeborg Nilsson (1924 – 1995) was a Norwegian...</td>\n",
       "      <td>female</td>\n",
       "      <td>247</td>\n",
       "      <td>41</td>\n",
       "    </tr>\n",
       "    <tr>\n",
       "      <th>2</th>\n",
       "      <td>Ingeborg Norell</td>\n",
       "      <td>Finnish heroine / life saver</td>\n",
       "      <td>U</td>\n",
       "      <td>Ingeborg Norell (born 1727) was the first Finn...</td>\n",
       "      <td>female</td>\n",
       "      <td>242</td>\n",
       "      <td>41</td>\n",
       "    </tr>\n",
       "    <tr>\n",
       "      <th>3</th>\n",
       "      <td>Ingeborg Pehrson</td>\n",
       "      <td>Danish actor</td>\n",
       "      <td>U</td>\n",
       "      <td>Ingeborg Pehrson (16 December 1886 - 11 April ...</td>\n",
       "      <td>NaN</td>\n",
       "      <td>88</td>\n",
       "      <td>16</td>\n",
       "    </tr>\n",
       "    <tr>\n",
       "      <th>4</th>\n",
       "      <td>Ingeborg Pfüller</td>\n",
       "      <td>Argentine shot putter and discus thrower</td>\n",
       "      <td>U</td>\n",
       "      <td>Ingeborg Ella Pfüller (born January 1 1932) wa...</td>\n",
       "      <td>female</td>\n",
       "      <td>301</td>\n",
       "      <td>52</td>\n",
       "    </tr>\n",
       "  </tbody>\n",
       "</table>\n",
       "</div>"
      ],
      "text/plain": [
       "         rdf-schema#label                               description gender  \\\n",
       "0  Ingeborg Moen Borgerud    Norwegian businesswoman and politician      U   \n",
       "1        Ingeborg Nilsson                             Figure skater      U   \n",
       "2         Ingeborg Norell              Finnish heroine / life saver      U   \n",
       "3        Ingeborg Pehrson                              Danish actor      U   \n",
       "4        Ingeborg Pfüller  Argentine shot putter and discus thrower      U   \n",
       "\n",
       "                                  rdf-schema#comment gender_from_pronouns  \\\n",
       "0  Ingeborg Moen Borgerud (born 23 September 1949...                  NaN   \n",
       "1  Ingeborg Nilsson (1924 – 1995) was a Norwegian...               female   \n",
       "2  Ingeborg Norell (born 1727) was the first Finn...               female   \n",
       "3  Ingeborg Pehrson (16 December 1886 - 11 April ...                  NaN   \n",
       "4  Ingeborg Ella Pfüller (born January 1 1932) wa...               female   \n",
       "\n",
       "   comment_length  word_comment_length  \n",
       "0             128                   19  \n",
       "1             247                   41  \n",
       "2             242                   41  \n",
       "3              88                   16  \n",
       "4             301                   52  "
      ]
     },
     "execution_count": 8,
     "metadata": {},
     "output_type": "execute_result"
    }
   ],
   "source": [
    "# read \n",
    "\n",
    "import pandas as pd\n",
    "Pdf = pd.read_csv('http://maartenmarx.nl/teaching/KennisSystemen/Data/PersonDF_naam_sex_description_snippet.csv.gz',\n",
    "                 compression='gzip')\n",
    "Pdf = Pdf[Pdf.columns[2:]]\n",
    "print Pdf.shape\n",
    "\n",
    "Pdf.head()"
   ]
  },
  {
   "cell_type": "code",
   "execution_count": 9,
   "metadata": {
    "collapsed": false
   },
   "outputs": [
    {
     "data": {
      "text/plain": [
       "0    4\n",
       "1    2\n",
       "2    5\n",
       "3    2\n",
       "4    6\n",
       "Name: Description_length, dtype: int64"
      ]
     },
     "execution_count": 9,
     "metadata": {},
     "output_type": "execute_result"
    }
   ],
   "source": [
    "# add some columns to Pdf \n",
    "\n",
    "# in this simple example we add the number of tokens in the description as a new column\n",
    "\n",
    "def telwoordjes(string):\n",
    "    return len(string.split())\n",
    "\n",
    "Pdf['Description_length']= Pdf.description.astype(str).apply(telwoordjes)\n",
    "\n",
    "Pdf.Description_length.head()"
   ]
  },
  {
   "cell_type": "code",
   "execution_count": 14,
   "metadata": {
    "collapsed": false
   },
   "outputs": [
    {
     "name": "stdout",
     "output_type": "stream",
     "text": [
      "CPU times: user 3.96 s, sys: 736 ms, total: 4.7 s\n",
      "Wall time: 4.72 s\n",
      "-rw-r--r--@ 1 admin  staff   351M Jul 28 16:24 PersonDF_naam_sex_description_snippetEXTRA.pkl\n",
      "CPU times: user 91.9 ms, sys: 26.2 ms, total: 118 ms\n",
      "Wall time: 22.8 s\n",
      "-rw-r--r--@ 1 admin  staff   124M Jul 28 16:24 PersonDF_naam_sex_description_snippetEXTRA.pkl.gz\n",
      "CPU times: user 8.9 ms, sys: 14.2 ms, total: 23.1 ms\n",
      "Wall time: 1.95 s\n",
      "CPU times: user 3.25 s, sys: 574 ms, total: 3.82 s\n",
      "Wall time: 3.85 s\n"
     ]
    }
   ],
   "source": [
    "# save, gzip, and load again\n",
    "\n",
    "%time Pdf.to_pickle('PersonDF_naam_sex_description_snippetEXTRA.pkl')\n",
    "\n",
    "%ls -lh 'PersonDF_naam_sex_description_snippetEXTRA.pkl'\n",
    "%time !gzip PersonDF_naam_sex_description_snippetEXTRA.pkl\n",
    "%ls -lh PersonDF_naam_sex_description_snippetEXTRA.pkl.gz\n",
    "%time !gunzip PersonDF_naam_sex_description_snippetEXTRA.pkl.gz\n",
    "# read \n",
    "\n",
    "%time Pdf = pd.read_pickle('PersonDF_naam_sex_description_snippetEXTRA.pkl')\n",
    "\n",
    "!rm PersonDF_naam_sex_description_snippetEXTRA.pkl"
   ]
  },
  {
   "cell_type": "code",
   "execution_count": 11,
   "metadata": {
    "collapsed": false
   },
   "outputs": [
    {
     "name": "stdout",
     "output_type": "stream",
     "text": [
      "Ingeborg Moen Borgerud (born 23 September 1949) is a Norwegian lawyer businessperson and former politician for the Labour Party.\n",
      "Ingeborg Nilsson (1924 – 1995) was a Norwegian figure skater. She competed at the 1952 Winter Olympics in Oslo.She was Norwegian individual champion in 1953 and 1954 and in pairs in 1956 1957 1958 and 1959 together with partner Reidar Børjeson.\n",
      "Ingeborg Norell (born 1727) was the first Finnish female to have received an official decoration and to have been the subject of a commemorative plaque. She was commemorated in recognition for her act which saved many lives in Tenala in 1780.\n",
      "Ingeborg Pehrson (16 December 1886 - 11 April 1950) was a Danish stage and film actress.\n",
      "Ingeborg Ella Pfüller (born January 1 1932) was a female track and field athlete from Argentina competing in the discus throw. She represented her native country at the 1952 Summer Olympics and won the gold medal in the women's discus throw event at the 1955 Pan American Games in Mexico City Mexico.\n",
      "Ingeborg Rasmussen (born July 5 1960) is a Norwegian sprint canoer who competed from the mid-1980s to the early 1990s. Competing in two Summer Olympics she earned her best finish of sixth in the K-4 500 m event at Los Angeles in 1984.\n",
      "Ingeborg Refling Hagen (19 December 1895 - 30 November 1989) was a Norwegian author and teacher.\n",
      "Ingeborg Reichelt (born 11 May 1928 in Frankfurt an der Oder) is a German soprano singer. She is known for singing works of Johann Sebastian Bach.\n",
      "Ingeborg Roelofs (born 1983) is a Dutch team handball player. She plays on the Dutch national team and participated at the 2011 World Women's Handball Championship in Brazil.\n",
      "Ingeborg Sørensen (born 16 May 1948 in Drammen Norway) is a Norwegian model. She was Playboy magazine's Playmate of the Month for its March 1975 issue.She was Miss Norway in 1972 and finished in second place in the 1972 Miss World competition (which was won by Australian Belinda Green).\n"
     ]
    }
   ],
   "source": [
    "# inspect the full descriptions\n",
    "\n",
    "for x in Pdf['rdf-schema#comment'][:10]:\n",
    "    print x"
   ]
  },
  {
   "cell_type": "code",
   "execution_count": null,
   "metadata": {
    "collapsed": true
   },
   "outputs": [],
   "source": []
  }
 ],
 "metadata": {
  "anaconda-cloud": {},
  "kernelspec": {
   "display_name": "Python 2",
   "language": "python",
   "name": "python2"
  },
  "language_info": {
   "codemirror_mode": {
    "name": "ipython",
    "version": 2
   },
   "file_extension": ".py",
   "mimetype": "text/x-python",
   "name": "python",
   "nbconvert_exporter": "python",
   "pygments_lexer": "ipython2",
   "version": "2.7.12"
  }
 },
 "nbformat": 4,
 "nbformat_minor": 0
}
