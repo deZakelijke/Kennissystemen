{
 "cells": [
  {
   "cell_type": "markdown",
   "metadata": {},
   "source": [
    "# Assignment  week 5  "
   ]
  },
  {
   "cell_type": "markdown",
   "metadata": {},
   "source": [
    "## Notebook made by   (If not filled in correctly: 0 pts for assignment)\n",
    "\n",
    "__Name(s)__: Micha de Groot en Kaj Meijer\n",
    "\n",
    "__Student id(s)__ : 10434410 - 10509534\n",
    "\n",
    "__Email(s)__: studie@michadegroot.nl - k.d.meijer17@gmail.com\n",
    "\n",
    "### Pledge (taken from [Coursera's Honor Code](https://www.coursera.org/about/terms/honorcode) )\n",
    "\n",
    "\n",
    "\n",
    "Put here a selfie with your photo where you hold a signed paper with the following text: (if this is team work, put two selfies here). The link must be to some place on the web, not to a local file. **Assignments without the selfies will not be graded and receive 0 points.**\n",
    "\n",
    "> My answers to homework, quizzes and exams will be my own work (except for assignments that explicitly permit collaboration).\n",
    "\n",
    ">I will not make solutions to homework, quizzes or exams available to anyone else. This includes both solutions written by me, as well as any official solutions provided by the course staff.\n",
    "\n",
    ">I will not engage in any other activities that will dishonestly improve my results or dishonestly improve/hurt the results of others.\n",
    "\n",
    "<img src='link to your selfie'/>"
   ]
  },
  {
   "cell_type": "markdown",
   "metadata": {},
   "source": [
    "## Questions\n",
    "\n",
    "###  Wordnet (50%, each exercise 10%)\n",
    "\n",
    "* Make Exercises: 5,13,14,26,27 from [WordNet from NLTK](http://www.nltk.org/book/ch02.html#wordnet) NLTK book Chapter 2\n",
    "\n",
    "### DBpedia spotlight (50%)\n",
    "\n",
    "1.  (25%) Create a program (preferably here in this notebook), which can read in a URL, extract the text, run DBPedia spotlight on it, and presents the results in an attractive manner. \n",
    "    * You can use the spotlight API, or run it locally. See <https://github.com/dbpedia-spotlight/dbpedia-spotlight/blob/master/README.md>\n",
    "    * Let the user have some control on the crucial parameters (like confidence, support, etc)\n",
    "    * It should work well on English language text.\n",
    "    * Have some good examples after your code, showing how things work\n",
    "2. (25%) You do a manual evaluation, as is also done in section 4.2 of the spotlight article.\n",
    "    * Manually annotate the following two articles. Indicate the phrases that are named entities, indicate their type, and (if there is any) indicate the wikipedia page in the English Wikipedia which is the best link for that entity.\n",
    "    * Then run DBpedia spotlight on it, and compare the results. Experiment with different settings of the parameters.\n",
    "    * Compute precision and recall for a few different settings, and plot a precison-recall curve (like Figure 3 in the spotlight article). \n",
    "    \n",
    "    * Artciles:\n",
    "        * <http://www.bbc.com/news/world-us-canada-33753067> until \"The deal at a glance\"\n",
    "        * <http://www.bbc.com/news/world-europe-33694773>\n",
    "\n",
    "\n"
   ]
  },
  {
   "cell_type": "markdown",
   "metadata": {
    "collapsed": true
   },
   "source": [
    "## My wordnet answers\n",
    "\n",
    "### Q 5: Bij het onderzoeken van dde meronym, holnym relatie van een aantal woorden is het eerste wat opvalt dat dieren veelal geen meronym hebben maar gebouwen bijvoorbeeld wel. De meeste woorden hebben geen member_holonym maar wel een part_holonym. Voor dieren is dit weer andersom.\n",
    "\n",
    "### Q 13 : 20,3 procent van de nouns heeft een hyponym dus 79,7 procent heeft geen hyponym\n",
    "\n",
    "### Q 14: Zie code, het voorbeeld werkt met ambulance\n",
    "\n",
    "### Q 26: Ongeveer 4,5 hyponymen per zelfstandig naamwoord dat ten minste één hyponym heeft\n",
    "\n",
    "### Q 27: Voor nouns gemiddeld: 2,6. Voor verbs gemiddeld: 8,0. Voor adjectives gemiddeld: 3,7 . Voor adverbs gemiddeld: 2,6.\n"
   ]
  },
  {
   "cell_type": "code",
   "execution_count": 6,
   "metadata": {
    "collapsed": false
   },
   "outputs": [
    {
     "name": "stdout",
     "output_type": "stream",
     "text": [
      "showing info https://raw.githubusercontent.com/nltk/nltk_data/gh-pages/index.xml\n"
     ]
    },
    {
     "data": {
      "text/plain": [
       "True"
      ]
     },
     "execution_count": 6,
     "metadata": {},
     "output_type": "execute_result"
    }
   ],
   "source": [
    "import nltk\n",
    "nltk.download()"
   ]
  },
  {
   "cell_type": "code",
   "execution_count": 53,
   "metadata": {
    "collapsed": false
   },
   "outputs": [
    {
     "name": "stdout",
     "output_type": "stream",
     "text": [
      "[] [Synset('flag.n.07')] [] [Synset('canis.n.01'), Synset('pack.n.06')] [] []\n",
      "[] [] [] [Synset('canis.n.01')] [] []\n",
      "[] [Synset('library.n.01'), Synset('loft.n.02'), Synset('porch.n.01'), Synset('study.n.05')] [] [] [] []\n",
      "[] [Synset('burl.n.02'), Synset('crown.n.07'), Synset('limb.n.02'), Synset('stump.n.01'), Synset('trunk.n.01')] [Synset('heartwood.n.01'), Synset('sapwood.n.01')] [Synset('forest.n.01')] [] []\n",
      "[] [Synset('arm_bone.n.01'), Synset('biceps_brachii.n.01'), Synset('brachial_artery.n.01'), Synset('cephalic_vein.n.01'), Synset('elbow.n.01'), Synset('forearm.n.01'), Synset('hand.n.01'), Synset('humerus.n.01'), Synset('triceps_brachii.n.01'), Synset('ulnar_nerve.n.01'), Synset('wrist.n.01')] [] [] [Synset('body.n.01'), Synset('homo.n.02')] []\n"
     ]
    }
   ],
   "source": [
    "# Vraag 5\n",
    "from nltk.corpus import wordnet as wn\n",
    "names = [\"dog.n.01\", \"wolf.n.01\", \"house.n.01\", \"tree.n.01\", \"arm.n.01\"]\n",
    "\n",
    "for name in names:\n",
    "    nouns1 = wn.synset(name).member_meronyms()\n",
    "    nouns2 = wn.synset(name).part_meronyms()\n",
    "    nouns3 = wn.synset(name).substance_meronyms()\n",
    "    nouns4 = wn.synset(name).member_holonyms()\n",
    "    nouns5 = wn.synset(name).part_holonyms()\n",
    "    nouns6 = wn.synset(name).substance_holonyms()\n",
    "    print nouns1, nouns2, nouns3, nouns4, nouns5, nouns6"
   ]
  },
  {
   "cell_type": "code",
   "execution_count": 19,
   "metadata": {
    "collapsed": false,
    "scrolled": true
   },
   "outputs": [
    {
     "name": "stdout",
     "output_type": "stream",
     "text": [
      "79.6711928393\n"
     ]
    }
   ],
   "source": [
    "#Vraag 13\n",
    "\n",
    "from nltk.corpus import wordnet as wn\n",
    "\n",
    "nouns = wn.all_synsets(pos=\"n\")\n",
    "nrNouns = 0\n",
    "nrHyponyms = 0\n",
    "for synset in nouns:\n",
    "    nrNouns +=1\n",
    "    if not synset.hyponyms():\n",
    "            nrHyponyms +=1\n",
    "print nrHyponyms*100.0/nrNouns"
   ]
  },
  {
   "cell_type": "code",
   "execution_count": 18,
   "metadata": {
    "collapsed": false
   },
   "outputs": [
    {
     "name": "stdout",
     "output_type": "stream",
     "text": [
      "Synset('ambulance.n.01')[Synset('funny_wagon.n.01')][Synset('car.n.01')]\n"
     ]
    }
   ],
   "source": [
    "# Vraag 14\n",
    "\n",
    "from nltk.corpus import wordnet as wn\n",
    "\n",
    "def supergloss(synset):\n",
    "    hypStr = str(synset.hyponyms())\n",
    "    synStr = str(synset)\n",
    "    hyp2Str = str(synset.hypernyms())\n",
    "    return synStr + hypStr + hyp2Str\n",
    "\n",
    "word = wn.synsets(\"ambulance\")[0]\n",
    "\n",
    "gloss = supergloss(word)\n",
    "print gloss"
   ]
  },
  {
   "cell_type": "code",
   "execution_count": 2,
   "metadata": {
    "collapsed": false,
    "scrolled": true
   },
   "outputs": [
    {
     "name": "stdout",
     "output_type": "stream",
     "text": [
      "4.54382076319\n"
     ]
    }
   ],
   "source": [
    "# Vraag 26\n",
    "\n",
    "from nltk.corpus import wordnet as wn\n",
    "\n",
    "nouns = wn.all_synsets(pos=\"n\")\n",
    "nounsWithHyp = 0.0\n",
    "hyps = 0.0\n",
    "for synset in nouns:\n",
    "    if synset.hyponyms():\n",
    "        nounsWithHyp +=1\n",
    "        hyps += len(synset.hyponyms())\n",
    "        \n",
    "print hyps/nounsWithHyp"
   ]
  },
  {
   "cell_type": "code",
   "execution_count": 35,
   "metadata": {
    "collapsed": false
   },
   "outputs": [
    {
     "name": "stdout",
     "output_type": "stream",
     "text": [
      "3621.0\n",
      "9426.0\n",
      "2.60314830157\n"
     ]
    }
   ],
   "source": [
    "# Vraag 27\n",
    "\n",
    "from nltk.corpus import wordnet as wn\n",
    "\n",
    "nouns = wn.all_synsets(pos=\"r\")\n",
    "# Hier moeten we van alle nouns uit nouns het aantal betekenissen halen\n",
    "nouncount = 0.0\n",
    "polycount = 0.0\n",
    "for noun in nouns:\n",
    "    nouncount +=1\n",
    "    noun = noun.name()\n",
    "    noun = noun.split(\".\")\n",
    "    polycount += len(wn.synsets(noun[0]))\n",
    "print nouncount\n",
    "print polycount\n",
    "print polycount/nouncount"
   ]
  },
  {
   "cell_type": "markdown",
   "metadata": {},
   "source": [
    "## My Spotlight answers"
   ]
  },
  {
   "cell_type": "code",
   "execution_count": null,
   "metadata": {
    "collapsed": true
   },
   "outputs": [],
   "source": [
    "# code for annotating the text in a URL"
   ]
  },
  {
   "cell_type": "code",
   "execution_count": 4,
   "metadata": {
    "collapsed": false
   },
   "outputs": [
    {
     "name": "stdout",
     "output_type": "stream",
     "text": [
      "Enter the confidence: 0.9\n",
      " Enter the support: 20\n",
      " [{u'similarityScore': 0.9329752676867548, u'surfaceForm': u'Barack Obama', u'support': 14695, u'offset': 116, u'URI': u'http://dbpedia.org/resource/Barack_Obama', u'percentageOfSecondRank': 0.07183977393054242, u'types': u'DBpedia:Agent,Schema:Person,Http://xmlns.com/foaf/0.1/Person,DBpedia:Person,DBpedia:OfficeHolder'}, {u'similarityScore': 0.9999999999990905, u'surfaceForm': u'Wyoming', u'support': 10463, u'offset': 2070, u'URI': u'http://dbpedia.org/resource/Wyoming', u'percentageOfSecondRank': 7.818838782520232e-13, u'types': u'Schema:Place,DBpedia:Place,DBpedia:PopulatedPlace,DBpedia:Region,Schema:AdministrativeArea,DBpedia:AdministrativeRegion'}, {u'similarityScore': 0.9999999999404281, u'surfaceForm': u'West Virginia', u'support': 18924, u'offset': 2079, u'URI': u'http://dbpedia.org/resource/West_Virginia', u'percentageOfSecondRank': 5.942034665983658e-11, u'types': u'Schema:Place,DBpedia:Place,DBpedia:PopulatedPlace,DBpedia:Region,Schema:AdministrativeArea,DBpedia:AdministrativeRegion'}, {u'similarityScore': 1.0, u'surfaceForm': u'Kentucky', u'support': 29535, u'offset': 2097, u'URI': u'http://dbpedia.org/resource/Kentucky', u'percentageOfSecondRank': 8.668595627092757e-15, u'types': u'Schema:Place,DBpedia:Place,DBpedia:PopulatedPlace,DBpedia:Region,Schema:AdministrativeArea,DBpedia:AdministrativeRegion'}, {u'similarityScore': 1.0, u'surfaceForm': u'Environmental Protection Agency', u'support': 4036, u'offset': 2467, u'URI': u'http://dbpedia.org/resource/United_States_Environmental_Protection_Agency', u'percentageOfSecondRank': 9.321822541794095e-58, u'types': u'DBpedia:Agent,Schema:Organization,DBpedia:Organisation,Schema:GovernmentOrganization,DBpedia:GovernmentAgency'}, {u'similarityScore': 0.9947860342284781, u'surfaceForm': u'BBC', u'support': 1870, u'offset': 2535, u'URI': u'http://dbpedia.org/resource/BBC_News', u'percentageOfSecondRank': 0.005241293697523833, u'types': u'DBpedia:Agent,Schema:Organization,DBpedia:Organisation,DBpedia:Company'}, {u'similarityScore': 1.0, u'surfaceForm': u'moral authority', u'support': 210, u'offset': 2730, u'URI': u'http://dbpedia.org/resource/Moral_authority', u'percentageOfSecondRank': 0.0, u'types': u''}, {u'similarityScore': 0.9999999992019184, u'surfaceForm': u'Democratic', u'support': 7648, u'offset': 3545, u'URI': u'http://dbpedia.org/resource/Democracy', u'percentageOfSecondRank': 7.982314890298141e-10, u'types': u''}, {u'similarityScore': 1.0, u'surfaceForm': u'Hillary Clinton', u'support': 3681, u'offset': 3579, u'URI': u'http://dbpedia.org/resource/Hillary_Rodham_Clinton', u'percentageOfSecondRank': 1.5536330480192604e-32, u'types': u'DBpedia:Agent,Schema:Person,Http://xmlns.com/foaf/0.1/Person,DBpedia:Person,DBpedia:OfficeHolder'}, {u'similarityScore': 1.0, u'surfaceForm': u'Republican', u'support': 60935, u'offset': 3699, u'URI': u'http://dbpedia.org/resource/Republican_Party_(United_States)', u'percentageOfSecondRank': 3.442418007181286e-14, u'types': u'DBpedia:Agent,Schema:Organization,DBpedia:Organisation,DBpedia:PoliticalParty'}, {u'similarityScore': 1.0, u'surfaceForm': u'Republican', u'support': 60935, u'offset': 3752, u'URI': u'http://dbpedia.org/resource/Republican_Party_(United_States)', u'percentageOfSecondRank': 3.442418007181286e-14, u'types': u'DBpedia:Agent,Schema:Organization,DBpedia:Organisation,DBpedia:PoliticalParty'}, {u'similarityScore': 1.0, u'surfaceForm': u'Republican', u'support': 60935, u'offset': 3877, u'URI': u'http://dbpedia.org/resource/Republican_Party_(United_States)', u'percentageOfSecondRank': 3.442418007181286e-14, u'types': u'DBpedia:Agent,Schema:Organization,DBpedia:Organisation,DBpedia:PoliticalParty'}, {u'similarityScore': 1.0, u'surfaceForm': u'Marco Rubio', u'support': 132, u'offset': 3912, u'URI': u'http://dbpedia.org/resource/Marco_Rubio', u'percentageOfSecondRank': 0.0, u'types': u'DBpedia:Agent,Schema:Person,Http://xmlns.com/foaf/0.1/Person,DBpedia:Person,DBpedia:OfficeHolder'}, {u'similarityScore': 0.9999999999995453, u'surfaceForm': u'Florida', u'support': 60271, u'offset': 3986, u'URI': u'http://dbpedia.org/resource/Florida', u'percentageOfSecondRank': 5.866311282604437e-13, u'types': u'Schema:Place,DBpedia:Place,DBpedia:PopulatedPlace,DBpedia:Region,Schema:AdministrativeArea,DBpedia:AdministrativeRegion'}, {u'similarityScore': 1.0, u'surfaceForm': u'Jeb Bush', u'support': 441, u'offset': 4003, u'URI': u'http://dbpedia.org/resource/Jeb_Bush', u'percentageOfSecondRank': 0.0, u'types': u'DBpedia:Agent,Schema:Person,Http://xmlns.com/foaf/0.1/Person,DBpedia:Person,DBpedia:Politician,DBpedia:Governor'}, {u'similarityScore': 1.0, u'surfaceForm': u'Republican', u'support': 60935, u'offset': 4249, u'URI': u'http://dbpedia.org/resource/Republican_Party_(United_States)', u'percentageOfSecondRank': 3.442418007181286e-14, u'types': u'DBpedia:Agent,Schema:Organization,DBpedia:Organisation,DBpedia:PoliticalParty'}, {u'similarityScore': 0.9947860342284781, u'surfaceForm': u'BBC', u'support': 1870, u'offset': 4531, u'URI': u'http://dbpedia.org/resource/BBC_News', u'percentageOfSecondRank': 0.005241293697523833, u'types': u'DBpedia:Agent,Schema:Organization,DBpedia:Organisation,DBpedia:Company'}, {u'similarityScore': 0.999999947568996, u'surfaceForm': u'natural gas', u'support': 8958, u'offset': 4883, u'URI': u'http://dbpedia.org/resource/Natural_gas', u'percentageOfSecondRank': 5.2430981593451815e-08, u'types': u''}, {u'similarityScore': 1.0, u'surfaceForm': u'carbon dioxide', u'support': 3055, u'offset': 4919, u'URI': u'http://dbpedia.org/resource/Greenhouse_gas', u'percentageOfSecondRank': 1.2190889051368356e-19, u'types': u''}, {u'similarityScore': 0.999999947568996, u'surfaceForm': u'natural gas', u'support': 8958, u'offset': 4997, u'URI': u'http://dbpedia.org/resource/Natural_gas', u'percentageOfSecondRank': 5.2430981593451815e-08, u'types': u''}, {u'similarityScore': 1.0, u'surfaceForm': u'Republican', u'support': 60935, u'offset': 5453, u'URI': u'http://dbpedia.org/resource/Republican_Party_(United_States)', u'percentageOfSecondRank': 3.442418007181286e-14, u'types': u'DBpedia:Agent,Schema:Organization,DBpedia:Organisation,DBpedia:PoliticalParty'}, {u'similarityScore': 1.0, u'surfaceForm': u'Clean Air Act', u'support': 499, u'offset': 5657, u'URI': u'http://dbpedia.org/resource/Clean_Air_Act_(United_States)', u'percentageOfSecondRank': 7.073406093115351e-47, u'types': u''}, {u'similarityScore': 1.0, u'surfaceForm': u'Republican', u'support': 60935, u'offset': 5854, u'URI': u'http://dbpedia.org/resource/Republican_Party_(United_States)', u'percentageOfSecondRank': 3.442418007181286e-14, u'types': u'DBpedia:Agent,Schema:Organization,DBpedia:Organisation,DBpedia:PoliticalParty'}, {u'similarityScore': 0.9999999463284454, u'surfaceForm': u'treaty', u'support': 3903, u'offset': 6003, u'URI': u'http://dbpedia.org/resource/Treaty', u'percentageOfSecondRank': 5.3671672217583634e-08, u'types': u''}, {u'similarityScore': 0.9993308148062975, u'surfaceForm': u'Haiti', u'support': 11042, u'offset': 6368, u'URI': u'http://dbpedia.org/resource/Haiti', u'percentageOfSecondRank': 0.0006696333024731936, u'types': u'Schema:Place,DBpedia:Place,DBpedia:PopulatedPlace,Schema:Country,DBpedia:Country'}, {u'similarityScore': 0.9999999999995453, u'surfaceForm': u'Florida', u'support': 60271, u'offset': 6463, u'URI': u'http://dbpedia.org/resource/Florida', u'percentageOfSecondRank': 5.866311282604437e-13, u'types': u'Schema:Place,DBpedia:Place,DBpedia:PopulatedPlace,DBpedia:Region,Schema:AdministrativeArea,DBpedia:AdministrativeRegion'}, {u'similarityScore': 1.0, u'surfaceForm': u'Syria', u'support': 24148, u'offset': 6524, u'URI': u'http://dbpedia.org/resource/Syria', u'percentageOfSecondRank': 5.758208589814604e-15, u'types': u'Schema:Place,DBpedia:Place,DBpedia:PopulatedPlace,Schema:Country,DBpedia:Country'}, {u'similarityScore': 0.9999999440005938, u'surfaceForm': u'Sweden', u'support': 75024, u'offset': 6542, u'URI': u'http://dbpedia.org/resource/Sweden', u'percentageOfSecondRank': 5.5999394063769065e-08, u'types': u'Schema:Place,DBpedia:Place,DBpedia:PopulatedPlace,Schema:Country,DBpedia:Country'}, {u'similarityScore': 1.0, u'surfaceForm': u'jihad', u'support': 1834, u'offset': 6571, u'URI': u'http://dbpedia.org/resource/Jihad', u'percentageOfSecondRank': 6.395169297057377e-22, u'types': u''}, {u'similarityScore': 1.0, u'surfaceForm': u'same-sex marriage', u'support': 4658, u'offset': 6613, u'URI': u'http://dbpedia.org/resource/Same-sex_marriage', u'percentageOfSecondRank': 7.570049469096992e-24, u'types': u''}, {u'similarityScore': 0.9999999685473999, u'surfaceForm': u'Georgian', u'support': 18580, u'offset': 6723, u'URI': u'http://dbpedia.org/resource/Georgia_(country)', u'percentageOfSecondRank': 2.92963280127507e-08, u'types': u'Schema:Place,DBpedia:Place,DBpedia:PopulatedPlace,Schema:Country,DBpedia:Country'}]\n"
     ]
    }
   ],
   "source": [
    "#Example to get you going:\n",
    "# code for annotating the text in a URL\n",
    "\n",
    "import requests  # http://docs.python-requests.org/en/latest/\n",
    "import json\n",
    "from bs4 import BeautifulSoup\n",
    "import spotlight\n",
    "\n",
    "# Get HTML code from url\n",
    "url ='http://www.bbc.com/news/world-us-canada-33753067'\n",
    "bbc = requests.get(url)\n",
    "soup = BeautifulSoup(bbc.text,\"lxml\")\n",
    "\n",
    "# Make text file\n",
    "text = \"\"\n",
    "for article in soup.findAll('p'):\n",
    "    text += article.text + \" \"\n",
    "# print text\n",
    "\n",
    "# Get user input\n",
    "print \"Enter the confidence: \",\n",
    "conf = raw_input()\n",
    "print \"Enter the support: \",\n",
    "sup = raw_input()\n",
    "\n",
    "# Make annotations with dbpedia spotlight\n",
    "annotations = spotlight.annotate('http://spotlight.sztaki.hu:2222/rest/annotate',\n",
    "    text, confidence = conf, support = sup)\n",
    "\n",
    "print annotations"
   ]
  },
  {
   "cell_type": "markdown",
   "metadata": {},
   "source": [
    "# My annotations of the two articles\n",
    "\n",
    "## Links to annotated HTML/PDFs\n",
    "* Use colored markers to indicate which entities you extracted for linking, using color to indicate their type.\n",
    "\n",
    "## Entities and their links\n",
    "* We  use a similar output format as used by Spotlight."
   ]
  },
  {
   "cell_type": "code",
   "execution_count": 3,
   "metadata": {
    "collapsed": true
   },
   "outputs": [],
   "source": [
    "# Code for computing precision and recall and making the plots"
   ]
  },
  {
   "cell_type": "markdown",
   "metadata": {},
   "source": [
    "# Example code : show a pdf or picture in your notebook\n",
    "\n",
    "\n",
    "\n",
    "![Alttext](http://ichef-1.bbci.co.uk/news/624/cpsprodpb/75D4/production/_84646103_f65c0f56-d67b-4af7-9180-46131adbc1d0.jpg)\n",
    "\n",
    "<!--  You can also use all of HTML, including commenting out like we do here \n",
    "\n",
    "<img src='http://ichef-1.bbci.co.uk/news/624/cpsprodpb/75D4/production/_84646103_f65c0f56-d67b-4af7-9180-46131adbc1d0.jpg'/>\n",
    "\n",
    "-->"
   ]
  },
  {
   "cell_type": "code",
   "execution_count": 1,
   "metadata": {
    "collapsed": false
   },
   "outputs": [
    {
     "data": {
      "text/html": [
       "\n",
       "        <iframe\n",
       "            width=\"600\"\n",
       "            height=\"300\"\n",
       "            src=\"http://www.aclweb.org/anthology/P/P11/P11-1095.pdf\"\n",
       "            frameborder=\"0\"\n",
       "            allowfullscreen\n",
       "        ></iframe>\n",
       "        "
      ],
      "text/plain": [
       "<IPython.lib.display.IFrame at 0x7f25284c8550>"
      ]
     },
     "execution_count": 1,
     "metadata": {},
     "output_type": "execute_result"
    }
   ],
   "source": [
    "# Example: show a pdf or picture in your notebook\n",
    "from IPython.display import IFrame\n",
    "IFrame(\"http://www.aclweb.org/anthology/P/P11/P11-1095.pdf\", width=600, height=300)"
   ]
  },
  {
   "cell_type": "code",
   "execution_count": null,
   "metadata": {
    "collapsed": true
   },
   "outputs": [],
   "source": []
  }
 ],
 "metadata": {
  "anaconda-cloud": {},
  "kernelspec": {
   "display_name": "Python [default]",
   "language": "python",
   "name": "python2"
  },
  "language_info": {
   "codemirror_mode": {
    "name": "ipython",
    "version": 2
   },
   "file_extension": ".py",
   "mimetype": "text/x-python",
   "name": "python",
   "nbconvert_exporter": "python",
   "pygments_lexer": "ipython2",
   "version": "2.7.12"
  }
 },
 "nbformat": 4,
 "nbformat_minor": 0
}
