{
 "cells": [
  {
   "cell_type": "markdown",
   "metadata": {},
   "source": [
    "# Assignment  week 5  "
   ]
  },
  {
   "cell_type": "markdown",
   "metadata": {},
   "source": [
    "## Notebook made by   (If not filled in correctly: 0 pts for assignment)\n",
    "\n",
    "__Name(s)__: Micha de Groot en Kaj Meijer\n",
    "\n",
    "__Student id(s)__ : 10434410 - 10509534\n",
    "\n",
    "__Email(s)__: studie@michadegroot.nl - k.d.meijer17@gmail.com\n",
    "\n",
    "### Pledge (taken from [Coursera's Honor Code](https://www.coursera.org/about/terms/honorcode) )\n",
    "\n",
    "\n",
    "\n",
    "Put here a selfie with your photo where you hold a signed paper with the following text: (if this is team work, put two selfies here). The link must be to some place on the web, not to a local file. **Assignments without the selfies will not be graded and receive 0 points.**\n",
    "\n",
    "> My answers to homework, quizzes and exams will be my own work (except for assignments that explicitly permit collaboration).\n",
    "\n",
    ">I will not make solutions to homework, quizzes or exams available to anyone else. This includes both solutions written by me, as well as any official solutions provided by the course staff.\n",
    "\n",
    ">I will not engage in any other activities that will dishonestly improve my results or dishonestly improve/hurt the results of others.\n",
    "\n",
    "\n",
    "<img src='http://imgur.com/a/ruU0n' />\n",
    "\n",
    "GA HIER HEEN VOOR DE SELFIE: http://imgur.com/a/ruU0n."
   ]
  },
  {
   "cell_type": "markdown",
   "metadata": {},
   "source": [
    "## Questions\n",
    "\n",
    "###  Wordnet (50%, each exercise 10%)\n",
    "\n",
    "* Make Exercises: 5,13,14,26,27 from [WordNet from NLTK](http://www.nltk.org/book/ch02.html#wordnet) NLTK book Chapter 2\n",
    "\n",
    "### DBpedia spotlight (50%)\n",
    "\n",
    "1.  (25%) Create a program (preferably here in this notebook), which can read in a URL, extract the text, run DBPedia spotlight on it, and presents the results in an attractive manner. \n",
    "    * You can use the spotlight API, or run it locally. See <https://github.com/dbpedia-spotlight/dbpedia-spotlight/blob/master/README.md>\n",
    "    * Let the user have some control on the crucial parameters (like confidence, support, etc)\n",
    "    * It should work well on English language text.\n",
    "    * Have some good examples after your code, showing how things work\n",
    "2. (25%) You do a manual evaluation, as is also done in section 4.2 of the spotlight article.\n",
    "    * Manually annotate the following two articles. Indicate the phrases that are named entities, indicate their type, and (if there is any) indicate the wikipedia page in the English Wikipedia which is the best link for that entity.\n",
    "    * Then run DBpedia spotlight on it, and compare the results. Experiment with different settings of the parameters.\n",
    "    * Compute precision and recall for a few different settings, and plot a precison-recall curve (like Figure 3 in the spotlight article). \n",
    "    \n",
    "    * Artciles:\n",
    "        * <http://www.bbc.com/news/world-us-canada-33753067> until \"The deal at a glance\"\n",
    "        * <http://www.bbc.com/news/world-europe-33694773>\n",
    "\n",
    "\n"
   ]
  },
  {
   "cell_type": "markdown",
   "metadata": {
    "collapsed": true
   },
   "source": [
    "## My wordnet answers\n",
    "\n",
    "### Q 5: Bij het onderzoeken van dde meronym, holnym relatie van een aantal woorden is het eerste wat opvalt dat dieren veelal geen meronym hebben maar gebouwen bijvoorbeeld wel. De meeste woorden hebben geen member_holonym maar wel een part_holonym. Voor dieren is dit weer andersom.\n",
    "\n",
    "### Q 13 : 20,3 procent van de nouns heeft een hyponym dus 79,7 procent heeft geen hyponym\n",
    "\n",
    "### Q 14: Zie code, het voorbeeld werkt met ambulance\n",
    "\n",
    "### Q 26: Ongeveer 4,5 hyponymen per zelfstandig naamwoord dat ten minste één hyponym heeft\n",
    "\n",
    "### Q 27: Voor nouns gemiddeld: 2,6. Voor verbs gemiddeld: 8,0. Voor adjectives gemiddeld: 3,7 . Voor adverbs gemiddeld: 2,6.\n"
   ]
  },
  {
   "cell_type": "code",
   "execution_count": 6,
   "metadata": {
    "collapsed": false
   },
   "outputs": [
    {
     "name": "stdout",
     "output_type": "stream",
     "text": [
      "showing info https://raw.githubusercontent.com/nltk/nltk_data/gh-pages/index.xml\n"
     ]
    },
    {
     "data": {
      "text/plain": [
       "True"
      ]
     },
     "execution_count": 6,
     "metadata": {},
     "output_type": "execute_result"
    }
   ],
   "source": [
    "import nltk\n",
    "nltk.download()"
   ]
  },
  {
   "cell_type": "code",
   "execution_count": 53,
   "metadata": {
    "collapsed": false
   },
   "outputs": [
    {
     "name": "stdout",
     "output_type": "stream",
     "text": [
      "[] [Synset('flag.n.07')] [] [Synset('canis.n.01'), Synset('pack.n.06')] [] []\n",
      "[] [] [] [Synset('canis.n.01')] [] []\n",
      "[] [Synset('library.n.01'), Synset('loft.n.02'), Synset('porch.n.01'), Synset('study.n.05')] [] [] [] []\n",
      "[] [Synset('burl.n.02'), Synset('crown.n.07'), Synset('limb.n.02'), Synset('stump.n.01'), Synset('trunk.n.01')] [Synset('heartwood.n.01'), Synset('sapwood.n.01')] [Synset('forest.n.01')] [] []\n",
      "[] [Synset('arm_bone.n.01'), Synset('biceps_brachii.n.01'), Synset('brachial_artery.n.01'), Synset('cephalic_vein.n.01'), Synset('elbow.n.01'), Synset('forearm.n.01'), Synset('hand.n.01'), Synset('humerus.n.01'), Synset('triceps_brachii.n.01'), Synset('ulnar_nerve.n.01'), Synset('wrist.n.01')] [] [] [Synset('body.n.01'), Synset('homo.n.02')] []\n"
     ]
    }
   ],
   "source": [
    "# Vraag 5\n",
    "from nltk.corpus import wordnet as wn\n",
    "names = [\"dog.n.01\", \"wolf.n.01\", \"house.n.01\", \"tree.n.01\", \"arm.n.01\"]\n",
    "\n",
    "for name in names:\n",
    "    nouns1 = wn.synset(name).member_meronyms()\n",
    "    nouns2 = wn.synset(name).part_meronyms()\n",
    "    nouns3 = wn.synset(name).substance_meronyms()\n",
    "    nouns4 = wn.synset(name).member_holonyms()\n",
    "    nouns5 = wn.synset(name).part_holonyms()\n",
    "    nouns6 = wn.synset(name).substance_holonyms()\n",
    "    print nouns1, nouns2, nouns3, nouns4, nouns5, nouns6"
   ]
  },
  {
   "cell_type": "code",
   "execution_count": 19,
   "metadata": {
    "collapsed": false,
    "scrolled": true
   },
   "outputs": [
    {
     "name": "stdout",
     "output_type": "stream",
     "text": [
      "79.6711928393\n"
     ]
    }
   ],
   "source": [
    "#Vraag 13\n",
    "\n",
    "from nltk.corpus import wordnet as wn\n",
    "\n",
    "nouns = wn.all_synsets(pos=\"n\")\n",
    "nrNouns = 0\n",
    "nrHyponyms = 0\n",
    "for synset in nouns:\n",
    "    nrNouns +=1\n",
    "    if not synset.hyponyms():\n",
    "            nrHyponyms +=1\n",
    "print nrHyponyms*100.0/nrNouns"
   ]
  },
  {
   "cell_type": "code",
   "execution_count": 18,
   "metadata": {
    "collapsed": false
   },
   "outputs": [
    {
     "name": "stdout",
     "output_type": "stream",
     "text": [
      "Synset('ambulance.n.01')[Synset('funny_wagon.n.01')][Synset('car.n.01')]\n"
     ]
    }
   ],
   "source": [
    "# Vraag 14\n",
    "\n",
    "from nltk.corpus import wordnet as wn\n",
    "\n",
    "def supergloss(synset):\n",
    "    hypStr = str(synset.hyponyms())\n",
    "    synStr = str(synset)\n",
    "    hyp2Str = str(synset.hypernyms())\n",
    "    return synStr + hypStr + hyp2Str\n",
    "\n",
    "word = wn.synsets(\"ambulance\")[0]\n",
    "\n",
    "gloss = supergloss(word)\n",
    "print gloss"
   ]
  },
  {
   "cell_type": "code",
   "execution_count": 2,
   "metadata": {
    "collapsed": false,
    "scrolled": true
   },
   "outputs": [
    {
     "name": "stdout",
     "output_type": "stream",
     "text": [
      "4.54382076319\n"
     ]
    }
   ],
   "source": [
    "# Vraag 26\n",
    "\n",
    "from nltk.corpus import wordnet as wn\n",
    "\n",
    "nouns = wn.all_synsets(pos=\"n\")\n",
    "nounsWithHyp = 0.0\n",
    "hyps = 0.0\n",
    "for synset in nouns:\n",
    "    if synset.hyponyms():\n",
    "        nounsWithHyp +=1\n",
    "        hyps += len(synset.hyponyms())\n",
    "        \n",
    "print hyps/nounsWithHyp"
   ]
  },
  {
   "cell_type": "code",
   "execution_count": 35,
   "metadata": {
    "collapsed": false
   },
   "outputs": [
    {
     "name": "stdout",
     "output_type": "stream",
     "text": [
      "3621.0\n",
      "9426.0\n",
      "2.60314830157\n"
     ]
    }
   ],
   "source": [
    "# Vraag 27\n",
    "\n",
    "from nltk.corpus import wordnet as wn\n",
    "\n",
    "nouns = wn.all_synsets(pos=\"r\")\n",
    "# Hier moeten we van alle nouns uit nouns het aantal betekenissen halen\n",
    "nouncount = 0.0\n",
    "polycount = 0.0\n",
    "for noun in nouns:\n",
    "    nouncount +=1\n",
    "    noun = noun.name()\n",
    "    noun = noun.split(\".\")\n",
    "    polycount += len(wn.synsets(noun[0]))\n",
    "print nouncount\n",
    "print polycount\n",
    "print polycount/nouncount"
   ]
  },
  {
   "cell_type": "markdown",
   "metadata": {},
   "source": [
    "## My Spotlight answers"
   ]
  },
  {
   "cell_type": "code",
   "execution_count": null,
   "metadata": {
    "collapsed": true
   },
   "outputs": [],
   "source": [
    "# code for annotating the text in a URL"
   ]
  },
  {
   "cell_type": "code",
   "execution_count": 65,
   "metadata": {
    "collapsed": false
   },
   "outputs": [
    {
     "name": "stdout",
     "output_type": "stream",
     "text": [
      "Enter the confidence: 0.9\n",
      " Enter the support: 100\n",
      " similarityScore :  0.932975267687\n",
      "surfaceForm :  Barack Obama\n",
      "support :  14695\n",
      "offset :  116\n",
      "URI :  http://dbpedia.org/resource/Barack_Obama\n",
      "percentageOfSecondRank :  0.0718397739305\n",
      "types :  DBpedia:Agent,Schema:Person,Http://xmlns.com/foaf/0.1/Person,DBpedia:Person,DBpedia:OfficeHolder\n",
      "\n",
      "\n",
      "similarityScore :  0.999999999999\n",
      "surfaceForm :  Wyoming\n",
      "support :  10463\n",
      "offset :  2070\n",
      "URI :  http://dbpedia.org/resource/Wyoming\n",
      "percentageOfSecondRank :  7.81883878252e-13\n",
      "types :  Schema:Place,DBpedia:Place,DBpedia:PopulatedPlace,DBpedia:Region,Schema:AdministrativeArea,DBpedia:AdministrativeRegion\n",
      "\n",
      "\n",
      "similarityScore :  0.99999999994\n",
      "surfaceForm :  West Virginia\n",
      "support :  18924\n",
      "offset :  2079\n",
      "URI :  http://dbpedia.org/resource/West_Virginia\n",
      "percentageOfSecondRank :  5.94203466598e-11\n",
      "types :  Schema:Place,DBpedia:Place,DBpedia:PopulatedPlace,DBpedia:Region,Schema:AdministrativeArea,DBpedia:AdministrativeRegion\n",
      "\n",
      "\n",
      "similarityScore :  1.0\n",
      "surfaceForm :  Kentucky\n",
      "support :  29535\n",
      "offset :  2097\n",
      "URI :  http://dbpedia.org/resource/Kentucky\n",
      "percentageOfSecondRank :  8.66859562709e-15\n",
      "types :  Schema:Place,DBpedia:Place,DBpedia:PopulatedPlace,DBpedia:Region,Schema:AdministrativeArea,DBpedia:AdministrativeRegion\n",
      "\n",
      "\n",
      "similarityScore :  1.0\n",
      "surfaceForm :  Environmental Protection Agency\n",
      "support :  4036\n",
      "offset :  2467\n",
      "URI :  http://dbpedia.org/resource/United_States_Environmental_Protection_Agency\n",
      "percentageOfSecondRank :  9.32182254179e-58\n",
      "types :  DBpedia:Agent,Schema:Organization,DBpedia:Organisation,Schema:GovernmentOrganization,DBpedia:GovernmentAgency\n",
      "\n",
      "\n",
      "similarityScore :  0.994786034228\n",
      "surfaceForm :  BBC\n",
      "support :  1870\n",
      "offset :  2535\n",
      "URI :  http://dbpedia.org/resource/BBC_News\n",
      "percentageOfSecondRank :  0.00524129369752\n",
      "types :  DBpedia:Agent,Schema:Organization,DBpedia:Organisation,DBpedia:Company\n",
      "\n",
      "\n",
      "similarityScore :  1.0\n",
      "surfaceForm :  moral authority\n",
      "support :  210\n",
      "offset :  2730\n",
      "URI :  http://dbpedia.org/resource/Moral_authority\n",
      "percentageOfSecondRank :  0.0\n",
      "types :  \n",
      "\n",
      "\n",
      "similarityScore :  0.999999999202\n",
      "surfaceForm :  Democratic\n",
      "support :  7648\n",
      "offset :  3545\n",
      "URI :  http://dbpedia.org/resource/Democracy\n",
      "percentageOfSecondRank :  7.9823148903e-10\n",
      "types :  \n",
      "\n",
      "\n",
      "similarityScore :  1.0\n",
      "surfaceForm :  Hillary Clinton\n",
      "support :  3681\n",
      "offset :  3579\n",
      "URI :  http://dbpedia.org/resource/Hillary_Rodham_Clinton\n",
      "percentageOfSecondRank :  1.55363304802e-32\n",
      "types :  DBpedia:Agent,Schema:Person,Http://xmlns.com/foaf/0.1/Person,DBpedia:Person,DBpedia:OfficeHolder\n",
      "\n",
      "\n",
      "similarityScore :  1.0\n",
      "surfaceForm :  Republican\n",
      "support :  60935\n",
      "offset :  3699\n",
      "URI :  http://dbpedia.org/resource/Republican_Party_(United_States)\n",
      "percentageOfSecondRank :  3.44241800718e-14\n",
      "types :  DBpedia:Agent,Schema:Organization,DBpedia:Organisation,DBpedia:PoliticalParty\n",
      "\n",
      "\n",
      "similarityScore :  1.0\n",
      "surfaceForm :  Republican\n",
      "support :  60935\n",
      "offset :  3752\n",
      "URI :  http://dbpedia.org/resource/Republican_Party_(United_States)\n",
      "percentageOfSecondRank :  3.44241800718e-14\n",
      "types :  DBpedia:Agent,Schema:Organization,DBpedia:Organisation,DBpedia:PoliticalParty\n",
      "\n",
      "\n",
      "similarityScore :  1.0\n",
      "surfaceForm :  Republican\n",
      "support :  60935\n",
      "offset :  3877\n",
      "URI :  http://dbpedia.org/resource/Republican_Party_(United_States)\n",
      "percentageOfSecondRank :  3.44241800718e-14\n",
      "types :  DBpedia:Agent,Schema:Organization,DBpedia:Organisation,DBpedia:PoliticalParty\n",
      "\n",
      "\n",
      "similarityScore :  1.0\n",
      "surfaceForm :  Marco Rubio\n",
      "support :  132\n",
      "offset :  3912\n",
      "URI :  http://dbpedia.org/resource/Marco_Rubio\n",
      "percentageOfSecondRank :  0.0\n",
      "types :  DBpedia:Agent,Schema:Person,Http://xmlns.com/foaf/0.1/Person,DBpedia:Person,DBpedia:OfficeHolder\n",
      "\n",
      "\n",
      "similarityScore :  1.0\n",
      "surfaceForm :  Florida\n",
      "support :  60271\n",
      "offset :  3986\n",
      "URI :  http://dbpedia.org/resource/Florida\n",
      "percentageOfSecondRank :  5.8663112826e-13\n",
      "types :  Schema:Place,DBpedia:Place,DBpedia:PopulatedPlace,DBpedia:Region,Schema:AdministrativeArea,DBpedia:AdministrativeRegion\n",
      "\n",
      "\n",
      "similarityScore :  1.0\n",
      "surfaceForm :  Jeb Bush\n",
      "support :  441\n",
      "offset :  4003\n",
      "URI :  http://dbpedia.org/resource/Jeb_Bush\n",
      "percentageOfSecondRank :  0.0\n",
      "types :  DBpedia:Agent,Schema:Person,Http://xmlns.com/foaf/0.1/Person,DBpedia:Person,DBpedia:Politician,DBpedia:Governor\n",
      "\n",
      "\n",
      "similarityScore :  1.0\n",
      "surfaceForm :  Republican\n",
      "support :  60935\n",
      "offset :  4249\n",
      "URI :  http://dbpedia.org/resource/Republican_Party_(United_States)\n",
      "percentageOfSecondRank :  3.44241800718e-14\n",
      "types :  DBpedia:Agent,Schema:Organization,DBpedia:Organisation,DBpedia:PoliticalParty\n",
      "\n",
      "\n",
      "similarityScore :  0.994786034228\n",
      "surfaceForm :  BBC\n",
      "support :  1870\n",
      "offset :  4531\n",
      "URI :  http://dbpedia.org/resource/BBC_News\n",
      "percentageOfSecondRank :  0.00524129369752\n",
      "types :  DBpedia:Agent,Schema:Organization,DBpedia:Organisation,DBpedia:Company\n",
      "\n",
      "\n",
      "similarityScore :  0.999999947569\n",
      "surfaceForm :  natural gas\n",
      "support :  8958\n",
      "offset :  4883\n",
      "URI :  http://dbpedia.org/resource/Natural_gas\n",
      "percentageOfSecondRank :  5.24309815935e-08\n",
      "types :  \n",
      "\n",
      "\n",
      "similarityScore :  1.0\n",
      "surfaceForm :  carbon dioxide\n",
      "support :  3055\n",
      "offset :  4919\n",
      "URI :  http://dbpedia.org/resource/Greenhouse_gas\n",
      "percentageOfSecondRank :  1.21908890514e-19\n",
      "types :  \n",
      "\n",
      "\n",
      "similarityScore :  0.999999947569\n",
      "surfaceForm :  natural gas\n",
      "support :  8958\n",
      "offset :  4997\n",
      "URI :  http://dbpedia.org/resource/Natural_gas\n",
      "percentageOfSecondRank :  5.24309815935e-08\n",
      "types :  \n",
      "\n",
      "\n",
      "similarityScore :  1.0\n",
      "surfaceForm :  Republican\n",
      "support :  60935\n",
      "offset :  5453\n",
      "URI :  http://dbpedia.org/resource/Republican_Party_(United_States)\n",
      "percentageOfSecondRank :  3.44241800718e-14\n",
      "types :  DBpedia:Agent,Schema:Organization,DBpedia:Organisation,DBpedia:PoliticalParty\n",
      "\n",
      "\n",
      "similarityScore :  1.0\n",
      "surfaceForm :  Clean Air Act\n",
      "support :  499\n",
      "offset :  5657\n",
      "URI :  http://dbpedia.org/resource/Clean_Air_Act_(United_States)\n",
      "percentageOfSecondRank :  7.07340609312e-47\n",
      "types :  \n",
      "\n",
      "\n",
      "similarityScore :  1.0\n",
      "surfaceForm :  Republican\n",
      "support :  60935\n",
      "offset :  5854\n",
      "URI :  http://dbpedia.org/resource/Republican_Party_(United_States)\n",
      "percentageOfSecondRank :  3.44241800718e-14\n",
      "types :  DBpedia:Agent,Schema:Organization,DBpedia:Organisation,DBpedia:PoliticalParty\n",
      "\n",
      "\n",
      "similarityScore :  0.999999946328\n",
      "surfaceForm :  treaty\n",
      "support :  3903\n",
      "offset :  6003\n",
      "URI :  http://dbpedia.org/resource/Treaty\n",
      "percentageOfSecondRank :  5.36716722176e-08\n",
      "types :  \n",
      "\n",
      "\n",
      "similarityScore :  0.999330814806\n",
      "surfaceForm :  Haiti\n",
      "support :  11042\n",
      "offset :  6368\n",
      "URI :  http://dbpedia.org/resource/Haiti\n",
      "percentageOfSecondRank :  0.000669633302473\n",
      "types :  Schema:Place,DBpedia:Place,DBpedia:PopulatedPlace,Schema:Country,DBpedia:Country\n",
      "\n",
      "\n",
      "similarityScore :  1.0\n",
      "surfaceForm :  Florida\n",
      "support :  60271\n",
      "offset :  6463\n",
      "URI :  http://dbpedia.org/resource/Florida\n",
      "percentageOfSecondRank :  5.8663112826e-13\n",
      "types :  Schema:Place,DBpedia:Place,DBpedia:PopulatedPlace,DBpedia:Region,Schema:AdministrativeArea,DBpedia:AdministrativeRegion\n",
      "\n",
      "\n",
      "similarityScore :  1.0\n",
      "surfaceForm :  Syria\n",
      "support :  24148\n",
      "offset :  6524\n",
      "URI :  http://dbpedia.org/resource/Syria\n",
      "percentageOfSecondRank :  5.75820858981e-15\n",
      "types :  Schema:Place,DBpedia:Place,DBpedia:PopulatedPlace,Schema:Country,DBpedia:Country\n",
      "\n",
      "\n",
      "similarityScore :  0.999999944001\n",
      "surfaceForm :  Sweden\n",
      "support :  75024\n",
      "offset :  6543\n",
      "URI :  http://dbpedia.org/resource/Sweden\n",
      "percentageOfSecondRank :  5.59993940638e-08\n",
      "types :  Schema:Place,DBpedia:Place,DBpedia:PopulatedPlace,Schema:Country,DBpedia:Country\n",
      "\n",
      "\n",
      "similarityScore :  1.0\n",
      "surfaceForm :  jihad\n",
      "support :  1834\n",
      "offset :  6572\n",
      "URI :  http://dbpedia.org/resource/Jihad\n",
      "percentageOfSecondRank :  6.39516929706e-22\n",
      "types :  \n",
      "\n",
      "\n",
      "similarityScore :  1.0\n",
      "surfaceForm :  same-sex marriage\n",
      "support :  4658\n",
      "offset :  6614\n",
      "URI :  http://dbpedia.org/resource/Same-sex_marriage\n",
      "percentageOfSecondRank :  7.5700494691e-24\n",
      "types :  \n",
      "\n",
      "\n",
      "similarityScore :  0.999999968547\n",
      "surfaceForm :  Georgian\n",
      "support :  18580\n",
      "offset :  6724\n",
      "URI :  http://dbpedia.org/resource/Georgia_(country)\n",
      "percentageOfSecondRank :  2.92963280128e-08\n",
      "types :  Schema:Place,DBpedia:Place,DBpedia:PopulatedPlace,Schema:Country,DBpedia:Country\n",
      "\n",
      "\n"
     ]
    }
   ],
   "source": [
    "#Example to get you going:\n",
    "# code for annotating the text in a URL\n",
    "\n",
    "import requests  # http://docs.python-requests.org/en/latest/\n",
    "import json\n",
    "from bs4 import BeautifulSoup\n",
    "import spotlight\n",
    "\n",
    "# Get HTML code from url\n",
    "url ='http://www.bbc.com/news/world-us-canada-33753067'\n",
    "bbc = requests.get(url)\n",
    "soup = BeautifulSoup(bbc.text,\"lxml\")\n",
    "\n",
    "# Make text file\n",
    "text = \"\"\n",
    "for article in soup.findAll('p'):\n",
    "    text += article.text + \" \"\n",
    "# print text\n",
    "\n",
    "# Get user input\n",
    "print \"Enter the confidence: \",\n",
    "conf = raw_input()\n",
    "print \"Enter the support: \",\n",
    "sup = raw_input()\n",
    "\n",
    "# Make annotations with dbpedia spotlight\n",
    "annotations = spotlight.annotate('http://spotlight.sztaki.hu:2222/rest/annotate',\n",
    "    text, confidence = conf, support = sup)\n",
    "\n",
    "for i in annotations:\n",
    "    #i = i.split()\n",
    "    for j in i:\n",
    "        print j, \": \", i[j]\n",
    "    print \"\\n\""
   ]
  },
  {
   "cell_type": "markdown",
   "metadata": {},
   "source": [
    "# My annotations of the two articles\n",
    "\n",
    "## Links to annotated HTML/PDFs\n",
    "* Use colored markers to indicate which entities you extracted for linking, using color to indicate their type.\n",
    "[Angela Merkel](https://en.wikipedia.org/wiki/Angela_Merkel)(Person) is taking a break. After one of the toughest months of her\n",
    "chancellorship, [Mrs Merkel](https://en.wikipedia.org/wiki/Angela_Merkel)(Person) chose to unwind - by watching a five-hour performance\n",
    "of the [Wagnerian](https://en.wikipedia.org/wiki/Richard_Wagner)(Person) opera [Tristan and Isolde](https://en.wikipedia.org/wiki/Tristan_and_Iseult).\n",
    "The [German](https://en.wikipedia.org/wiki/Germany) chancellor's summer holiday routine rarely alters.\n",
    "She is an avid opera fan, so it is usually a trip to the [Bayreuth Wagner festival](https://en.wikipedia.org/wiki/Bayreuth_Festival)(Activity)\n",
    "followed by a stay in [South Tyrol](https://en.wikipedia.org/wiki/South_Tyrol)(Place).\n",
    "What is different this year is the political storm from which she has emerged in\n",
    "[Berlin](https://en.wikipedia.org/wiki/Berlin)(Person) and the speculation still rife in [Germany](https://en.wikipedia.org/wiki/Germany)(Place) about her future.\n",
    "It has been a bruising few months. Largely due to the drama of the [Greek](https://en.wikipedia.org/wiki/Greece) debt\n",
    "crisis, whose twists and turns could have come straight from one of the operas\n",
    "[Mrs Merkel](https://en.wikipedia.org/wiki/Angela_Merkel)(Person) so enjoys.\n",
    "There was open rebellion from 60 of her own conservative MPs, who refused to\n",
    "back a third bailout for [Greece](https://en.wikipedia.org/wiki/Greece)(Place).\n",
    "But she was also criticised by those who felt, conversely, her stance on [Greece](Place, https://en.wikipedia.org/wiki/Greece)\n",
    "had been too harsh.\n",
    "By refusing to countenance debt relief and allowing her Finance Minister,\n",
    "[Wolfgang Schaeuble](https://en.wikipedia.org/wiki/Wolfgang_Schäuble)(Person), to threaten [Alexis Tsipras](https://en.wikipedia.org/wiki/Alexis_Tsipras)(Person)'s government with a [Greek](https://en.wikipedia.org/wiki/Greece) exit\n",
    "from the [eurozone](https://en.wikipedia.org/wiki/Eurozone)(Place), she went too far, they say.\n",
    "\n",
    "\n",
    "US President [Barack Obama](https://en.wikipedia.org/wiki/Barack_Obama)(Person) has unveiled what he called \"the biggest, most\n",
    "important step we have ever taken\" in tackling [climate change](https://en.wikipedia.org/wiki/Climate_change)(Event).\n",
    "The aim of the revised [Clean Power Plan](https://en.wikipedia.org/wiki/Clean_Power_Plan)(Event) is to cut greenhouse gas emissions from\n",
    "US power stations by nearly a third within 15(!!!) years.\n",
    "The measures will place significant emphasis on wind and solar power and other\n",
    "renewable energy sources.\n",
    "However, opponents in the energy industry have vowed to fight the plan.\n",
    "\"I'm convinced no challenge provides a greater threat to the future of the\n",
    "planet,\" [Mr Obama](https://en.wikipedia.org/wiki/Barack_Obama)(Person) said. \"There is such a thing as being too late.\"\n",
    "Those opponents say [Mr Obama](https://en.wikipedia.org/wiki/Barack_Obama)(Person) has declared \"a war on coal\". Power plants fired\n",
    "by coal provide more than a third of the US electricity supply.\n",
    "The revised plan will aim to cut carbon emissions from the power sector by 32%\n",
    "by 2030, compared with 2005 levels.\n",
    "\"We are the first generation to feel the impacts of [climate change](https://en.wikipedia.org/wiki/Climate_change)(Event), and the last\n",
    "generation to be able to do something about it,\" [Mr Obama](https://en.wikipedia.org/wiki/Barack_Obama)(Person) said. He likened the\n",
    "plan to taking 166 million cars off the road in terms of environmental impact.\n",
    "He called taking a stand against climate change a \"moral obligation\".\n",
    "[Mr Obama](https://en.wikipedia.org/wiki/Barack_Obama)(Person) brushed off the notion that the plan is a \"War on Coal\" that will kill\n",
    "jobs and said he is reinvesting in areas of the US known as \"coal country\".\n",
    "\"Scaremonging\" tactics will not work to stop the proposal, he said.\n",
    "\"If we don't do it nobody will. [America](https://en.wikipedia.org/wiki/United_States)(Place) leads the way forward... that's what\n",
    "this plan is about. This is our moment to get something right and get something\n",
    "right for our kids,\" he said.\n",
    "\n",
    "\n",
    "## Entities and their links\n",
    "* We  use a similar output format as used by Spotlight."
   ]
  },
  {
   "cell_type": "code",
   "execution_count": 1,
   "metadata": {
    "collapsed": false
   },
   "outputs": [
    {
     "ename": "ImportError",
     "evalue": "No module named spotlight",
     "output_type": "error",
     "traceback": [
      "\u001b[0;31m---------------------------------------------------------------------------\u001b[0m",
      "\u001b[0;31mImportError\u001b[0m                               Traceback (most recent call last)",
      "\u001b[0;32m<ipython-input-1-1d301b172786>\u001b[0m in \u001b[0;36m<module>\u001b[0;34m()\u001b[0m\n\u001b[1;32m      3\u001b[0m \u001b[0;32mimport\u001b[0m \u001b[0mjson\u001b[0m\u001b[0;34m\u001b[0m\u001b[0m\n\u001b[1;32m      4\u001b[0m \u001b[0;32mfrom\u001b[0m \u001b[0mbs4\u001b[0m \u001b[0;32mimport\u001b[0m \u001b[0mBeautifulSoup\u001b[0m\u001b[0;34m\u001b[0m\u001b[0m\n\u001b[0;32m----> 5\u001b[0;31m \u001b[0;32mimport\u001b[0m \u001b[0mspotlight\u001b[0m\u001b[0;34m\u001b[0m\u001b[0m\n\u001b[0m\u001b[1;32m      6\u001b[0m \u001b[0;34m\u001b[0m\u001b[0m\n\u001b[1;32m      7\u001b[0m \u001b[0;31m# Get HTML code from url\u001b[0m\u001b[0;34m\u001b[0m\u001b[0;34m\u001b[0m\u001b[0m\n",
      "\u001b[0;31mImportError\u001b[0m: No module named spotlight"
     ]
    }
   ],
   "source": [
    "# Code for computing precision and recall and making the plots\n",
    "import requests  # http://docs.python-requests.org/en/latest/\n",
    "import json\n",
    "from bs4 import BeautifulSoup\n",
    "import spotlight\n",
    "\n",
    "# Get HTML code from url\n",
    "url ='http://www.bbc.com/news/world-us-canada-33753067'\n",
    "bbc = requests.get(url)\n",
    "soup = BeautifulSoup(bbc.text,\"lxml\")\n",
    "\n",
    "# Make text file\n",
    "text = \"\"\n",
    "for article in soup.findAll('p'):\n",
    "    text += article.text + \" \"\n",
    "# print text\n",
    "\n",
    "# Make annotations with dbpedia spotlight\n",
    "for i in range(0,1,0.1):  \n",
    "    for j in range(0,150,50):\n",
    "        annotations = spotlight.annotate('http://spotlight.sztaki.hu:2222/rest/annotate',\n",
    "            text, confidence = i, support = j)\n",
    "        print annotations\n",
    "\n",
    "        "
   ]
  },
  {
   "cell_type": "markdown",
   "metadata": {},
   "source": [
    "# Example code : show a pdf or picture in your notebook\n",
    "\n",
    "\n",
    "\n",
    "![Alttext](http://ichef-1.bbci.co.uk/news/624/cpsprodpb/75D4/production/_84646103_f65c0f56-d67b-4af7-9180-46131adbc1d0.jpg)\n",
    "\n",
    "<!--  You can also use all of HTML, including commenting out like we do here \n",
    "\n",
    "<img src='http://ichef-1.bbci.co.uk/news/624/cpsprodpb/75D4/production/_84646103_f65c0f56-d67b-4af7-9180-46131adbc1d0.jpg'/>\n",
    "\n",
    "-->"
   ]
  },
  {
   "cell_type": "code",
   "execution_count": 55,
   "metadata": {
    "collapsed": false
   },
   "outputs": [],
   "source": [
    "# Example: show a pdf or picture in your notebook\n",
    "#from IPython.display import IFrame\n",
    "#IFrame(\"http://www.aclweb.org/anthology/P/P11/P11-1095.pdf\", width=600, height=300)"
   ]
  },
  {
   "cell_type": "code",
   "execution_count": null,
   "metadata": {
    "collapsed": true
   },
   "outputs": [],
   "source": []
  }
 ],
 "metadata": {
  "anaconda-cloud": {},
  "kernelspec": {
   "display_name": "Python [default]",
   "language": "python",
   "name": "python2"
  },
  "language_info": {
   "codemirror_mode": {
    "name": "ipython",
    "version": 2
   },
   "file_extension": ".py",
   "mimetype": "text/x-python",
   "name": "python",
   "nbconvert_exporter": "python",
   "pygments_lexer": "ipython2",
   "version": "2.7.12"
  }
 },
 "nbformat": 4,
 "nbformat_minor": 0
}
