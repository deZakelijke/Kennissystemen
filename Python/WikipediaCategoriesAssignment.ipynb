{
 "cells": [
  {
   "cell_type": "markdown",
   "metadata": {},
   "source": [
    "# Categories  in NL wikipedia\n",
    "\n",
    "In deze opdracht gaan we een gestructureerde kennisbank maken gebaseerd op de NL wikipedia.\n",
    "\n",
    "We doen 2 dingen\n",
    "\n",
    "1. We maken het netwerk (het is geen boom maar een DAG) van categorieen.\n",
    "2. Voor elke pagina, geven we aan  onder welke categorieen het _rechtstreeks_ valt\n",
    "     \n",
    "\n",
    "### Categorie-informatie\n",
    "* Voor elke pagina kunnen we de verzameling categorieen die rechtstreeks bij die pagina horen (die dus onder aan de pagina staan) vergelijken met de categorieen die we ook met beghulp van overerving zouden krijgen.\n",
    "    * Staat er bijvoorbeeld vaak redundante informatie op paginas? \n",
    "    * Hoe verhouden het aantal  expliciete en impliciete categorieen zich?\n",
    "    \n",
    " "
   ]
  },
  {
   "cell_type": "markdown",
   "metadata": {},
   "source": [
    "## Categories\n",
    "\n",
    "\n",
    "\n",
    "### Doel\n",
    "* We willen een netwerk van categori&euml;en distelleren uit de NL wikipedia.\n",
    "* Dat bestaat en kunnen we raadplegen via <https://nl.wikipedia.org/wiki/Speciaal:Categorieboom>\n",
    "* Nu willen we die data zelf hebben en in een kennisbank opslaan.\n",
    "\n",
    "#### Hoe kunnen we dat doen?\n",
    "\n",
    "1. Probeer de structuur van de categorieen ergens binnen Wikipedia te vinden.\n",
    "2. Hier is iemand die hetzelfde wilde: <http://stackoverflow.com/questions/12227134/how-to-fetch-category-tree-of-wiki>\n",
    "\n",
    "### Dumps/data\n",
    "* Dumps: <https://dumps.wikimedia.org/nlwiki/20150602/>\n",
    "* API: <https://www.mediawiki.org/wiki/API%3aCategorymembers>\n",
    "* Je bent niet de eerste met deze opdracht ....\n",
    "    * Zoek op het web.\n",
    "    * Bijvoorbeeld: <http://stackoverflow.com/questions/8088226/content-of-infobox-of-wikipedia/21107068#21107068>\n",
    "    * Zie ook <https://www.mediawiki.org/wiki/Alternative_parsers> voor nog meer mediawiki parsers\n",
    "\n",
    "\n"
   ]
  },
  {
   "cell_type": "markdown",
   "metadata": {},
   "source": [
    "# Opdrachten\n",
    "\n",
    "## Categorieen DAG\n",
    "\n",
    "### Download en representeer. 30%\n",
    "1. Verzin een datastructuur voor de categorieen DAG. Haal de NL wikipedia categorie structuur binnen, en sla die op in je datastructuur.\n",
    "\n",
    "### Analyseer 30%\n",
    "* Doe dit op de file <http://maartenmarx.nl/teaching/KennisSystemen/Data/categorie_diepte6.csv.gz> \n",
    "1. Hoeveel unieke categorieen zijn er?\n",
    "1. ~~Hoe diep is de DAG? Wat is het langste pad van de root naar een blad, en wat is het kortste?~~\n",
    "3. Welke categorie heeft de meeste kinderen?\n",
    "4. Definieer de functie die alle  nakomelingen (descendants) van een gegeven knoop teruggeeft.\n",
    "5.  compute the average branching factor\n",
    "\n",
    "## Categorieen en paginas 30%\n",
    "1. Bepaal voor elke Wikipedia pagina tot welke categorieen die rechtstreeks behoort, en tot welke categorieen die behoort dmv overerving.\n",
    "    * Kies een slimme manier om dit te representeren.\n",
    "1. Bepaal voor elke Wikipedia pagina, hoeveel van de expliciet genoemde categorieen, ook via overerving hadden kunnen worden afgeleid.\n",
    "    * Wat is het gemiddelde per pagina?\n",
    "    \n",
    "## Reflecteer 10%\n",
    "Beschrijf in een aantal punten wat er makkelijk was en wat lastig was aan de opdracht. \n",
    "Geef goed weer wat voor technieken en mogelijkheden je hebt gebruikt.\n",
    "\n",
    "\n",
    "## Bonus 10%\n",
    "Volgens de literatuur is de wikipedia isa hierarchy niet juist want **het bevat cycles**. Op de file van \"diepte 6\" is dit misschien ook al het geval. Schrijf een kort programma dat detecteert of er cycles zijn, en die als er een is, ook eentje uitprint.\n",
    "\n",
    "Geef aan hoe je dit zou kunnen verhelpen.\n",
    "\n",
    "## Hints\n",
    "\n",
    "1. Het geeft niet als je code niet de hele Wikipedia aankan. Begin steeds met kleine files/stukjes, anders wacht je heel erg lang. \n",
    "2. Voor het downloaden van de Categorie structuur werkte voor mij het recursief aanroepen van de API het beste. **Zie de voorbeeld code hieronder.**\n",
    "    * Ga niet verder dan diepte 3 of 4 vanaf de root.\n",
    "    * zorg dat je geen dubel werk doet. De categorie structuur is een DAG, dus je komt via allerlei paden weer op dezelfde knopen uit. \n",
    "    * Begin bovenaan, en vraag de kinderen op, en ga dan recursief (breadth-first of depth-first?) met de kinderen hetzelfde doen.\n",
    "    * zet een limiet op de diepte dmv een tellertje\n",
    "3. Hoe simpeler je je netwerk representeert, hoe makkelijker de analyse. \n",
    "    * Denk aan Prolog: hoe zou je het daar doen?\n",
    "    * Hoe zou je het in een database doen? Of in een spreadsheet? \n",
    "    * Zit daar eigenlijk veel verschil tussen?\n",
    "4. Gebruik de voorbeeld code om de wikipedia XML dump te downloaden en voor elke pagina de categorien eruit te trekken.\n",
    "    * Experimenteer met een **heel kleine file**: 10 paginas is meer dan voldoende. \n",
    "    * Als ie dan werkt, zet je programma aan op de hele bubs, en ga koffie drinken.\n",
    "    * Als je uit werkgeheugen loopt, los het dan op door stromend in te lezen, of geef het aan in je code.\n",
    "5. Gebruik itertools om de union van veel verzamelingen tegelijk te nemen. Bijvoorbeeld:\n",
    "    * voor   `pak_children(n)` een functie die de verzameling van alle kinderen van `n` teruggeeft, heb je hier de verzameling kleinkinderen van `Ida`.\n",
    "    * `set(itertools.chain(*[pak_children(n) for n in pak_children(Ida)]))`\n",
    "6. Om de categorieen uit een pagina te vissen is het gebruik van een reguliere expressie heel erg handig."
   ]
  },
  {
   "cell_type": "markdown",
   "metadata": {},
   "source": [
    "## De datastructuur\n"
   ]
  },
  {
   "cell_type": "code",
   "execution_count": 67,
   "metadata": {
    "collapsed": false,
    "scrolled": true
   },
   "outputs": [
    {
     "name": "stdout",
     "output_type": "stream",
     "text": [
      "{'Uppernode2': {}, 'Uppernode1': {'Node1': {'Leaf1': {}, 'Leaf2': {}}, 'Node2': {}}}\n"
     ]
    }
   ],
   "source": [
    "# Datastructoor voor een Directed Asyclic Graph\n",
    "# We gebruiken hiervoor een dict. In deze dict definiëren we de child nodes van een node als een dict van dat element.\n",
    "# De leaf nodes zijn de diepst geneste elementen in de dict.\n",
    "# Op deze manier kan je eenvoudig child nodes vinden van een node.\n",
    "\n",
    "# Hier onder een voor\n",
    "dataTree = {\"Uppernode1\": {\"Node1\": {\"Leaf1\": {}, \"Leaf2\": {}}, \"Node2\": {} }, \"Uppernode2\": {} }\n",
    "print dataTree"
   ]
  },
  {
   "cell_type": "markdown",
   "metadata": {},
   "source": [
    "## De analyse\n",
    "Voor deze analysevragen hebben we de bijgeleverde .csv file gebruikt\n",
    "\n",
    "#### In totaal zijn er 13765 categoriën in de CSV file\n",
    "#### Als we Wikipedia als categorie niet mee tellen is de meest voorkomende categorie Film naar regisseur\n",
    "#### De functie twee blokken hier onder print alle nakomelingen als een dict\n",
    "#### De gemiddelde branching facor is 6.6, zoals te zien in de berekening hier onder"
   ]
  },
  {
   "cell_type": "code",
   "execution_count": 108,
   "metadata": {
    "collapsed": false
   },
   "outputs": [
    {
     "name": "stdout",
     "output_type": "stream",
     "text": [
      " Er zijn 13765 categoriën\n",
      "De categorie met de meeste kinderen is Film naar regisseur\n",
      "De branching factor is 6.5949872866\n"
     ]
    }
   ],
   "source": [
    "# Vragen over categoriën\n",
    "\n",
    "import csv\n",
    "\n",
    "dataset = dict()\n",
    "with open('categorie_diepte6.csv','rb') as csvfile:\n",
    "    dataReader = csv.reader(csvfile, delimiter='\\t')\n",
    "    for row in dataReader:\n",
    "        if row[1] in dataset:\n",
    "            dataset[row[1]] += 1\n",
    "        else:\n",
    "            dataset[row[1]] = 1\n",
    "            \n",
    "    print \"Er zijn\", len(list(dataset)), \"categoriën\"\n",
    "    mostChildren = list(dataset)[0]\n",
    "    \n",
    "    childNodeSum = 0.0\n",
    "    for node in dataset:\n",
    "        childNodeSum += dataset[node]\n",
    "        if dataset[node] > dataset[mostChildren] and not node == \"Wikipedia\":\n",
    "            mostChildren = node\n",
    "    print \"De categorie met de meeste kinderen is\", mostChildren\n",
    "    branchingFactor = childNodeSum / len(list(dataset))\n",
    "    print \"De branching factor is\", branchingFactor"
   ]
  },
  {
   "cell_type": "code",
   "execution_count": 104,
   "metadata": {
    "collapsed": false
   },
   "outputs": [
    {
     "name": "stdout",
     "output_type": "stream",
     "text": [
      "{'Leaf1': {}, 'Leaf2': {}}\n"
     ]
    }
   ],
   "source": [
    "# Nakomelingen functie\n",
    "def children(dataSet, key):\n",
    "    childrenDict = dict()\n",
    "    nodeFound = False\n",
    "    for node in dataSet:\n",
    "        if node == key:\n",
    "            childrenDict = dataSet[node]\n",
    "            nodeFound = True\n",
    "            return childrenDict\n",
    "    if not nodeFound:\n",
    "        for node in dataSet:\n",
    "            temp = children(dataSet[node],key)\n",
    "            if temp:\n",
    "                nodeFound = True\n",
    "                return temp\n",
    "    if nodeFound:\n",
    "        return childrenDict\n",
    "    else:\n",
    "        return {}\n",
    "\n",
    "\n",
    "dataTree = {\"Uppernode1\": {\"Node1\": {\"Leaf1\": {}, \"Leaf2\": {}}, \"Node2\": {} }, \"Uppernode2\": {} }\n",
    "childrenList = children(dataTree, \"Node1\")\n",
    "print childrenList\n"
   ]
  },
  {
   "cell_type": "code",
   "execution_count": null,
   "metadata": {
    "collapsed": true
   },
   "outputs": [],
   "source": [
    "# De branching factor\n",
    "\n"
   ]
  },
  {
   "cell_type": "code",
   "execution_count": null,
   "metadata": {
    "collapsed": true
   },
   "outputs": [],
   "source": []
  },
  {
   "cell_type": "markdown",
   "metadata": {},
   "source": [
    "\n",
    "# Categorieen en pagina's"
   ]
  },
  {
   "cell_type": "code",
   "execution_count": 78,
   "metadata": {
    "collapsed": false
   },
   "outputs": [
    {
     "name": "stdout",
     "output_type": "stream",
     "text": [
      "{0: {'Categorie:Wetenschap': {0: u'Categorie:Wikipedia:Beginnetje wetenschap & technologie', 1: u'Categorie:Wetenschap naar land', 2: u'Categorie:Wetenschapper', 3: u'Categorie:Exacte wetenschap', 4: u'Categorie:Formele wetenschap', 5: u'Categorie:Geesteswetenschappen', 6: u'Categorie:Hoger onderwijs', 7: u'Categorie:Indologie', 8: u'Categorie:Interdiscipline', 9: u'Categorie:Kunstkritiek', 10: u'Categorie:Minister van Wetenschap', 11: u'Categorie:Natuurwetenschappen', 12: u'Categorie:Onderzoek', 13: u'Categorie:Onopgelost probleem', 14: u'Categorie:Sociale wetenschap', 15: u'Categorie:Toegepaste wetenschap', 16: u'Categorie:Wetenschappelijk genootschap', 17: u'Categorie:Wetenschappelijk televisieprogramma', 18: u'Categorie:Wetenschappelijke fraude', 19: u'Categorie:Wetenschappelijke literatuur', 20: u'Categorie:Wetenschappelijke software', 21: u'Categorie:Wetenschappelijke wet', 22: u'Categorie:Wetenschapsfilosofie', 23: u'Categorie:Wetenschapsgeschiedenis', 24: u'Categorie:Wetenschapsjournalist', 25: u'Categorie:Wetenschapslijsten', 26: u'Categorie:Wetenschapsprijs', 27: u'Categorie:Wetenschapsquiz', 28: u'Categorie:Wetmatigheid'}}, 1: {u'Categorie:Wikipedia:Beginnetje wetenschap & technologie': {}}, 2: {u'Categorie:Wetenschap naar land': {0: u'Categorie:Minister van Onderzoek naar nationaliteit', 1: u'Categorie:Wetenschapper naar nationaliteit', 2: u'Categorie:Wetenschapsjournalist naar nationaliteit', 3: u'Categorie:Wetenschap naar territorium', 4: u'Categorie:Wetenschap in Albani\\xeb', 5: u'Categorie:Wetenschap in Angola', 6: u'Categorie:Wetenschap in Armeni\\xeb', 7: u'Categorie:Wetenschap in Australi\\xeb', 8: u'Categorie:Wetenschap in Azerbeidzjan', 9: u'Categorie:Wetenschap in Belgi\\xeb', 10: u'Categorie:Wetenschap in Benin', 11: u'Categorie:Wetenschap in Bosni\\xeb en Herzegovina', 12: u'Categorie:Wetenschap in Brazili\\xeb', 13: u'Categorie:Wetenschap in Chili', 14: u'Categorie:Wetenschap in China', 15: u'Categorie:Wetenschap in Colombia', 16: u'Categorie:Wetenschap in Congo-Kinshasa', 17: u'Categorie:Wetenschap in Costa Rica', 18: u'Categorie:Wetenschap in Denemarken', 19: u'Categorie:Wetenschap in Duitsland', 20: u'Categorie:Wetenschap in Ethiopi\\xeb', 21: u'Categorie:Wetenschap in Fiji', 22: u'Categorie:Wetenschap in de Filipijnen', 23: u'Categorie:Wetenschap in Finland', 24: u'Categorie:Wetenschap in Frankrijk', 25: u'Categorie:Wetenschap in Ghana', 26: u'Categorie:Wetenschap in Griekenland', 27: u'Categorie:Wetenschap in Hongarije', 28: u'Categorie:Wetenschap in India', 29: u'Categorie:Wetenschap in Indonesi\\xeb', 30: u'Categorie:Wetenschap in Iran', 31: u'Categorie:Wetenschap in Isra\\xebl', 32: u'Categorie:Wetenschap in Itali\\xeb', 33: u'Categorie:Wetenschap in Ivoorkust', 34: u'Categorie:Wetenschap in Japan', 35: u'Categorie:Wetenschap in Kenia', 36: u'Categorie:Wetenschap in Kiribati', 37: u'Categorie:Wetenschap in Luxemburg (land)', 38: u'Categorie:Wetenschap in de Marshalleilanden', 39: u'Categorie:Wetenschap in Mexico', 40: u'Categorie:Wetenschap in Nauru', 41: u'Categorie:Wetenschap in Nederland', 42: u'Categorie:Wetenschap in Nieuw-Zeeland', 43: u'Categorie:Wetenschap in Noorwegen', 44: u'Categorie:Wetenschap in Oeganda', 45: u'Categorie:Wetenschap in Oekra\\xefne', 46: u'Categorie:Wetenschap in Peru', 47: u'Categorie:Wetenschap in Polen', 48: u'Categorie:Wetenschap in Rusland', 49: u'Categorie:Wetenschap in de Salomonseilanden', 50: u'Categorie:Wetenschap in Samoa', 51: u'Categorie:Wetenschap in Saoedi-Arabi\\xeb', 52: u'Categorie:Wetenschap in Singapore', 53: u'Categorie:Wetenschap in Soedan', 54: u'Categorie:Wetenschap in Thailand', 55: u'Categorie:Wetenschap in Tonga', 56: u'Categorie:Wetenschap in Turkije', 57: u'Categorie:Wetenschap in Tuvalu', 58: u'Categorie:Wetenschap in Uruguay', 59: u'Categorie:Wetenschap in Vanuatu', 60: u'Categorie:Wetenschap in Vaticaanstad', 61: u'Categorie:Wetenschap in het Verenigd Koninkrijk', 62: u'Categorie:Wetenschap in de Verenigde Staten', 63: u'Categorie:Wetenschap in Zuid-Afrika', 64: u'Categorie:Wetenschap in Zweden', 65: u'Categorie:Wetenschap in Zwitserland'}}, 3: {u'Categorie:Wetenschapper': {0: u'Categorie:Hoogleraar', 1: u'Categorie:Lijsten van wetenschappers', 2: u'Categorie:Wetenschapper naar eeuw', 3: u'Categorie:Wetenschapper naar nationaliteit', 4: u'Categorie:Wetenschapper als thema', 5: u'Categorie:Aardwetenschapper', 6: u'Categorie:Academielid', 7: u'Categorie:Antilleanist', 8: u'Categorie:Antropoloog', 9: u'Categorie:Apotheker', 10: u'Categorie:Archeoloog', 11: u'Categorie:Astronoom', 12: u'Categorie:Bedrijfskundige', 13: u'Categorie:Bestuurskundige', 14: u'Categorie:Bioloog', 15: u'Categorie:Cryptograaf', 16: u'Categorie:Demograaf', 17: u'Categorie:Econoom', 18: u'Categorie:Etnograaf', 19: u'Categorie:Farmacoloog', 20: u'Categorie:Filosoof', 21: u'Categorie:Godsdienstwetenschapper', 22: u'Categorie:Historicus', 23: u'Categorie:Hoofddocent', 24: u'Categorie:Informaticus', 25: u'Categorie:Ingenieur', 26: u'Categorie:Landbouwkundige', 27: u'Categorie:Literatuuronderzoeker', 28: u'Categorie:Medicus', 29: u'Categorie:Militair theoreticus', 30: u'Categorie:Museoloog', 31: u'Categorie:Musicoloog', 32: u'Categorie:Natuurkundige', 33: u'Categorie:Natuuronderzoeker', 34: u'Categorie:Neurowetenschapper', 35: u'Categorie:Numismaticus', 36: u'Categorie:Pedagoog', 37: u'Categorie:Planoloog', 38: u'Categorie:Politicoloog', 39: u'Categorie:Psycholoog', 40: u'Categorie:Rechtsgeleerde', 41: u'Categorie:Scheikundige', 42: u'Categorie:Socioloog', 43: u'Categorie:Systeemwetenschapper', 44: u'Categorie:Taalkundige', 45: u'Categorie:Universitair hoofddocent (Nederland)', 46: u'Categorie:Voedingswetenschapper', 47: u'Categorie:Wiskundige'}}, 4: {u'Categorie:Exacte wetenschap': {0: u'Categorie:Wedstrijd in een exacte wetenschap', 1: u'Categorie:Aardwetenschappen', 2: u'Categorie:Astronomie', 3: u'Categorie:Biologie', 4: u'Categorie:Gedachte-experiment in de exacte wetenschappen', 5: u'Categorie:Informatica', 6: u'Categorie:Natuurkunde', 7: u'Categorie:Neurowetenschap', 8: u'Categorie:Scheikunde', 9: u'Categorie:Technische wetenschappen', 10: u'Categorie:Wiskunde'}}, 5: {u'Categorie:Formele wetenschap': {0: u'Categorie:Classificatiesysteem', 1: u'Categorie:Eenheid', 2: u'Categorie:Experiment', 3: u'Categorie:Formele taal', 4: u'Categorie:Formele wetenschapslijsten', 5: u'Categorie:Grootheid', 6: u'Categorie:Logica', 7: u'Categorie:Modelvorming', 8: u'Categorie:Standaard', 9: u'Categorie:Systeemtheorie', 10: u'Categorie:Vuistregel', 11: u'Categorie:Wiskunde'}}, 6: {u'Categorie:Geesteswetenschappen': {0: u'Categorie:Amerikanistiek', 1: u'Categorie:Antropologie', 2: u'Categorie:Filosofie', 3: u'Categorie:Godsdienstwetenschap', 4: u'Categorie:Informatiewetenschap', 5: u'Categorie:Letteren', 6: u'Categorie:Psychologie', 7: u'Categorie:Sociologie'}}, 7: {u'Categorie:Hoger onderwijs': {0: u'Categorie:Hogeronderwijsinstelling', 1: u'Categorie:Studeren'}}, 8: {u'Categorie:Indologie': {0: u'Categorie:Indiakunde', 1: u'Categorie:Indoloog', 2: u'Categorie:Indonesi\\xebkunde'}}, 9: {u'Categorie:Interdiscipline': {0: u'Categorie:Amerikanistiek', 1: u'Categorie:Archeologie', 2: u'Categorie:Classificatiesysteem', 3: u'Categorie:Cognitiewetenschap', 4: u'Categorie:Criminologie', 5: u'Categorie:Futurologie', 6: u'Categorie:Informatie', 7: u'Categorie:Kunstmatige intelligentie', 8: u'Categorie:Modelvorming', 9: u'Categorie:Neurowetenschap', 10: u'Categorie:Pathologie', 11: u'Categorie:Psycholingu\\xefstiek', 12: u'Categorie:Semiotiek', 13: u'Categorie:Sociolingu\\xefstiek', 14: u'Categorie:Sportwetenschap', 15: u'Categorie:Standaard', 16: u'Categorie:Surinamistiek', 17: u'Categorie:Systeemtheorie', 18: u'Categorie:Wetenschapsgeschiedenis'}}, 10: {u'Categorie:Kunstkritiek': {0: u'Categorie:Kunstcriticus'}}, 'Categorie:Wetenschap': {0: u'Categorie:Wikipedia:Beginnetje wetenschap & technologie', 1: u'Categorie:Wetenschap naar land', 2: u'Categorie:Wetenschapper', 3: u'Categorie:Exacte wetenschap', 4: u'Categorie:Formele wetenschap', 5: u'Categorie:Geesteswetenschappen', 6: u'Categorie:Hoger onderwijs', 7: u'Categorie:Indologie', 8: u'Categorie:Interdiscipline', 9: u'Categorie:Kunstkritiek', 10: u'Categorie:Minister van Wetenschap', 11: u'Categorie:Natuurwetenschappen', 12: u'Categorie:Onderzoek', 13: u'Categorie:Onopgelost probleem', 14: u'Categorie:Sociale wetenschap', 15: u'Categorie:Toegepaste wetenschap', 16: u'Categorie:Wetenschappelijk genootschap', 17: u'Categorie:Wetenschappelijk televisieprogramma', 18: u'Categorie:Wetenschappelijke fraude', 19: u'Categorie:Wetenschappelijke literatuur', 20: u'Categorie:Wetenschappelijke software', 21: u'Categorie:Wetenschappelijke wet', 22: u'Categorie:Wetenschapsfilosofie', 23: u'Categorie:Wetenschapsgeschiedenis', 24: u'Categorie:Wetenschapsjournalist', 25: u'Categorie:Wetenschapslijsten', 26: u'Categorie:Wetenschapsprijs', 27: u'Categorie:Wetenschapsquiz', 28: u'Categorie:Wetmatigheid'}, 12: {u'Categorie:Natuurwetenschappen': {0: u'Categorie:Aardwetenschappen', 1: u'Categorie:Astronomie', 2: u'Categorie:Biologie', 3: u'Categorie:Fysische chemie', 4: u'Categorie:Milieuwetenschappen', 5: u'Categorie:Natuurkunde', 6: u'Categorie:Natuurwetenschappelijk genootschap', 7: u'Categorie:Scheikunde'}}, 13: {u'Categorie:Onderzoek': {0: u'Categorie:Evaluatie', 1: u'Categorie:Experiment', 2: u'Categorie:Forensisch onderzoek', 3: u'Categorie:Futurologie', 4: u'Categorie:Geneeskundig onderzoek', 5: u'Categorie:Marketingonderzoek', 6: u'Categorie:Methodoloog', 7: u'Categorie:Minister van Onderzoek', 8: u'Categorie:Onderzoeksinstituut', 9: u'Categorie:Opinieonderzoek', 10: u'Categorie:Ranglijst van universiteiten', 11: u'Categorie:Testen'}}, 14: {u'Categorie:Onopgelost probleem': {0: u'Categorie:Onge\\xefdentificeerd persoon', 1: u'Categorie:Onopgelost probleem in de natuurkunde', 2: u'Categorie:Onopgelost probleem in de wiskunde'}}, 15: {u'Categorie:Sociale wetenschap': {0: u'Categorie:Antropologie', 1: u'Categorie:Bedrijfskunde', 2: u'Categorie:Bestuurskunde', 3: u'Categorie:Criminologie', 4: u'Categorie:Demografie', 5: u'Categorie:Economie', 6: u'Categorie:Genderstudies', 7: u'Categorie:Geografie', 8: u'Categorie:Godsdienstwetenschap', 9: u'Categorie:Historiografie', 10: u'Categorie:Pedagogiek', 11: u'Categorie:Politicologie', 12: u'Categorie:Psychologie', 13: u'Categorie:Rechtsgeleerdheid', 14: u'Categorie:Semiotiek', 15: u'Categorie:Sociaal recht', 16: u'Categorie:Sociale filosofie', 17: u'Categorie:Sociologie'}}, 16: {u'Categorie:Toegepaste wetenschap': {0: u'Categorie:Bouwkunde', 1: u'Categorie:Computationele wetenschap', 2: u'Categorie:Criminologie', 3: u'Categorie:Geodesie', 4: u'Categorie:Krijgskunde', 5: u'Categorie:Landbouwkunde', 6: u'Categorie:Milieuwetenschappen', 7: u'Categorie:Ruimtevaart', 8: u'Categorie:Techniek', 9: u'Categorie:Technische wetenschappen', 10: u'Categorie:Vormgeving'}}, 17: {u'Categorie:Wetenschappelijk genootschap': {0: u'Categorie:Academie', 1: u'Categorie:Koninklijke Nederlandse Akademie van Wetenschappen', 2: u'Categorie:Natuurwetenschappelijk genootschap', 3: u'Categorie:Wiskundig genootschap'}}, 18: {u'Categorie:Wetenschappelijk televisieprogramma': {0: u'Categorie:Wetenschapsquiz'}}, 19: {u'Categorie:Wetenschappelijke fraude': {0: u'Categorie:Archeologische vervalsing', 1: u'Categorie:Wetenschappelijk fraudeur'}}, 20: {u'Categorie:Wetenschappelijke literatuur': {0: u'Categorie:Universiteitsbibliotheek', 1: u'Categorie:Wetenschappelijk boek', 2: u'Categorie:Wetenschappelijk tijdschrift', 3: u'Categorie:Wiskundige literatuur'}}, 21: {u'Categorie:Wetenschappelijke software': {0: u'Categorie:Wetenschapswebsite', 1: u'Categorie:Wiskundige software'}}, 22: {u'Categorie:Wetenschappelijke wet': {0: u'Categorie:Biologische wet', 1: u'Categorie:Economische wet', 2: u'Categorie:Natuurkundige wet'}}, 23: {u'Categorie:Wetenschapsfilosofie': {0: u'Categorie:Wetenschapsfilosoof', 1: u'Categorie:Behaviorisme', 2: u'Categorie:Logisch positivisme', 3: u'Categorie:Pathologische wetenschap', 4: u'Categorie:Protowetenschap', 5: u'Categorie:Pseudowetenschap', 6: u'Categorie:Scepticisme', 7: u'Categorie:Wetenschappelijk paradigma', 8: u'Categorie:Filosofie van de wiskunde'}}, 24: {u'Categorie:Wetenschapsgeschiedenis': {0: u'Categorie:Geschiedenis van het economisch denken', 1: u'Categorie:Geschiedenis van de biologie', 2: u'Categorie:Geschiedenis van de geologie', 3: u'Categorie:Geschiedenis van de natuurkunde', 4: u'Categorie:Geschiedenis van de wiskunde', 5: u'Categorie:Geschiedenis van het onderwijs', 6: u'Categorie:Internetgeschiedenis', 7: u'Categorie:Nobelprijs', 8: u'Categorie:Pathologische wetenschap', 9: u'Categorie:Protowetenschap', 10: u'Categorie:Wetenschapshistoricus', 11: u'Categorie:Wiskundig historicus'}}, 25: {u'Categorie:Wetenschapsjournalist': {0: u'Categorie:Wetenschapsjournalist naar nationaliteit'}}, 26: {u'Categorie:Wetenschapslijsten': {0: u'Categorie:Aardwetenschappelijke lijsten', 1: u'Categorie:Astronomielijsten', 2: u'Categorie:Biologielijsten', 3: u'Categorie:Filosofielijsten', 4: u'Categorie:Formele wetenschapslijsten', 5: u'Categorie:Geneeskundige lijsten', 6: u'Categorie:Geschiedenislijsten', 7: u'Categorie:Lijsten van hogeronderwijsinstellingen', 8: u'Categorie:Informaticalijsten', 9: u'Categorie:Lijsten van personen van Nederlandse universiteiten', 10: u'Categorie:Natuurkundelijsten', 11: u'Categorie:Scheikundelijsten', 12: u'Categorie:Lijsten van wetenschappers', 13: u'Categorie:Wiskundelijsten'}}, 27: {u'Categorie:Wetenschapsprijs': {0: u'Categorie:Innovatieprijs', 1: u'Categorie:Nobelprijs', 2: u'Categorie:Wiskundige prijs'}}, 28: {u'Categorie:Wetenschapsquiz': {}}, 29: {u'Categorie:Wetmatigheid': {0: u'Categorie:Natuurkundige wet'}}, 11: {u'Categorie:Minister van Wetenschap': {0: u'Categorie:Minister van Wetenschap naar nationaliteit'}}}\n"
     ]
    }
   ],
   "source": [
    "import requests  # http://docs.python-requests.org/en/latest/\n",
    "import json\n",
    "import itertools\n",
    "import warnings\n",
    "import sys\n",
    "warnings.filterwarnings('ignore')\n",
    "\n",
    "def subcategories(category):\n",
    "    url=\"https://nl.wikipedia.org/w/api.php?action=query&list=categorymembers&cmtitle=Categorie:Alles&cmlimit=500&cmtype=subcat&format=json&rawcontinue\"\n",
    "    '''Geef het paar (categorie, lijst van subcategorieen)  terug, gegeven input category. \n",
    "    Maximaal 500 (dit stel je in  in  de wikipedia api)'''\n",
    "    cat_url=url.replace('Categorie:Alles', category)\n",
    "    try:\n",
    "          # download the data from the API\n",
    "          # turn into a dict\n",
    "        top= requests.get(cat_url) # download the data from the API\n",
    "        data=top.json()  # turn into a dict\n",
    "        subs={}\n",
    "        query = data.get('query')\n",
    "        catmem = query.get(\"categorymembers\")\n",
    "        for i in range(0,len(catmem)):\n",
    "            cat = catmem[i].get('title')\n",
    "            subs[i] = cat\n",
    "        output = {category: subs}\n",
    "    except:\n",
    "        output={}  # bij een error schrijven we maar een lege lijst terug\n",
    "        #e = sys.exc_info()[0]\n",
    "        #write_to_page( \"<p>Error: %s</p>\" % e )\n",
    "    return output\n",
    "\n",
    "# test\n",
    "\n",
    "parent = 'Categorie:Wetenschap'\n",
    "categories[0] = subcategories(parent)\n",
    "cats = categories.get(parent)\n",
    "for i in range(0, len(cats)):\n",
    "    parent = cats.get(i)\n",
    "    newcats = subcategories(parent)\n",
    "    if newcats:\n",
    "        categories[i+1] = newcats\n",
    "        for j in range(0, len(newcats)):\n",
    "            parent = newcats.get(j)\n",
    "            if parent:\n",
    "                categories[j+100] = subcategories(parent)\n",
    "    \n",
    "print categories\n"
   ]
  },
  {
   "cell_type": "markdown",
   "metadata": {},
   "source": [
    "\n",
    "# Wat probeersels  (negeer dit gerust)"
   ]
  },
  {
   "cell_type": "code",
   "execution_count": 18,
   "metadata": {
    "collapsed": false
   },
   "outputs": [
    {
     "name": "stdout",
     "output_type": "stream",
     "text": [
      "[Errno 2] No such file or directory: 'NLWikipedia/'\n",
      "/home/kajzzer/Documents/UvA/20162017/Semester 1/Kennissystemen/Python\n"
     ]
    }
   ],
   "source": [
    "#!mkdir NLWikipedia\n",
    "%cd NLWikipedia/"
   ]
  },
  {
   "cell_type": "markdown",
   "metadata": {},
   "source": [
    "# Recursief aanroepen van api"
   ]
  },
  {
   "cell_type": "code",
   "execution_count": 4,
   "metadata": {
    "collapsed": false
   },
   "outputs": [
    {
     "data": {
      "text/plain": [
       "{u'query': {u'categorymembers': [{u'ns': 14,\n",
       "    u'pageid': 66068,\n",
       "    u'title': u'Categorie:Cultuur'},\n",
       "   {u'ns': 14, u'pageid': 63562, u'title': u'Categorie:Geschiedenis'},\n",
       "   {u'ns': 14, u'pageid': 133035, u'title': u'Categorie:Heelal'},\n",
       "   {u'ns': 14, u'pageid': 973784, u'title': u'Categorie:Lijsten'},\n",
       "   {u'ns': 14, u'pageid': 176685, u'title': u'Categorie:Mens en maatschappij'},\n",
       "   {u'ns': 14, u'pageid': 68387, u'title': u'Categorie:Natuur'},\n",
       "   {u'ns': 14, u'pageid': 1677948, u'title': u'Categorie:Persoon'},\n",
       "   {u'ns': 14, u'pageid': 63481, u'title': u'Categorie:Wetenschap'},\n",
       "   {u'ns': 14, u'pageid': 67372, u'title': u'Categorie:Wikipedia'}]}}"
      ]
     },
     "execution_count": 4,
     "metadata": {},
     "output_type": "execute_result"
    }
   ],
   "source": [
    "import requests  # http://docs.python-requests.org/en/latest/\n",
    "import json\n",
    "import itertools\n",
    "import warnings\n",
    "import sys\n",
    "warnings.filterwarnings('ignore')\n",
    "\n",
    "# get the subcategories of the top wikipedia category \"Alles\"\n",
    "url=\"https://nl.wikipedia.org/w/api.php?action=query&list=categorymembers&cmtitle=Categorie:Alles&cmlimit=500&cmtype=subcat&format=json&rawcontinue\"\n",
    "\n",
    "# testje met de top \n",
    "top= requests.get(url) # download the data from the API\n",
    "topdict=top.json()  # turn into a dict\n",
    "topdict\n"
   ]
  },
  {
   "cell_type": "code",
   "execution_count": 3,
   "metadata": {
    "collapsed": false
   },
   "outputs": [
    {
     "ename": "SyntaxError",
     "evalue": "invalid syntax (<ipython-input-3-f3ac7f51ece3>, line 10)",
     "output_type": "error",
     "traceback": [
      "\u001b[0;36m  File \u001b[0;32m\"<ipython-input-3-f3ac7f51ece3>\"\u001b[0;36m, line \u001b[0;32m10\u001b[0m\n\u001b[0;31m    subs=\u001b[0m\n\u001b[0m           ^\u001b[0m\n\u001b[0;31mSyntaxError\u001b[0m\u001b[0;31m:\u001b[0m invalid syntax\n"
     ]
    }
   ],
   "source": [
    "# Het werkpaard van alles: Maak af\n",
    "\n",
    "def subcategories(category):\n",
    "    '''Geef het paar (categorie, lijst van subcategorieen)  terug, gegeven input category. \n",
    "    Maximaal 500 (dit stel je in  in  de wikipedia api)'''\n",
    "    cat_url=url.replace('Categorie:Alles', category)\n",
    "    try:\n",
    "          # download the data from the API\n",
    "          # turn into a dict\n",
    "        subs=  \n",
    "    except:\n",
    "        subs=[]  # bij een error schrijven we maar een lege lijst terug\n",
    "        #e = sys.exc_info()[0]\n",
    "        #write_to_page( \"<p>Error: %s</p>\" % e )\n",
    "    return category, subs\n",
    "\n",
    "# test\n",
    "\n",
    "subcategories('poepoe'), subcategories('Categorie:Techniek')"
   ]
  },
  {
   "cell_type": "markdown",
   "metadata": {},
   "source": [
    "## Category tabel"
   ]
  },
  {
   "cell_type": "code",
   "execution_count": 10,
   "metadata": {
    "collapsed": false
   },
   "outputs": [
    {
     "name": "stdout",
     "output_type": "stream",
     "text": [
      "gzip: can't stat: nlwiki-20150602-category.sql (nlwiki-20150602-category.sql): No such file or directory\r\n"
     ]
    }
   ],
   "source": [
    "#! wget --no-check-certificate https://dumps.wikimedia.org/nlwiki/20150602/nlwiki-20150602-category.sql.gz\n",
    "#!gunzip nlwiki-20150602-category.sql.gz\n",
    "#!head -100 nlwiki-20150602-category.sql\n",
    "!gzip nlwiki-20150602-category.sql"
   ]
  },
  {
   "cell_type": "markdown",
   "metadata": {},
   "source": [
    "## mmm\n",
    "\n",
    "* Aan bovenstaande file heb je niet veel, want je krijgt de categorie structuur niet! \n",
    "* Kijk maar naar het tabelformaat en de voorbeelden:\n",
    "\n",
    "```\n",
    "CREATE TABLE `category` (\n",
    "  `cat_id` int(10) unsigned NOT NULL AUTO_INCREMENT,\n",
    "  `cat_title` varbinary(255) NOT NULL DEFAULT '',\n",
    "  `cat_pages` int(11) NOT NULL DEFAULT '0',\n",
    "  `cat_subcats` int(11) NOT NULL DEFAULT '0',\n",
    "  `cat_files` int(11) NOT NULL DEFAULT '0',\n",
    "  PRIMARY KEY (`cat_id`),\n",
    "  UNIQUE KEY `cat_title` (`cat_title`),\n",
    "  KEY `cat_pages` (`cat_pages`)\n",
    ") ENGINE=InnoDB AUTO_INCREMENT=14627193 DEFAULT CHARSET=binary;\n",
    "/*!40101 SET character_set_client = @saved_cs_client */;\n",
    "\n",
    "--\n",
    "-- Dumping data for table `category`\n",
    "--\n",
    "\n",
    "/*!40000 ALTER TABLE `category` DISABLE KEYS */;\n",
    "INSERT INTO `category` VALUES (1,'Plaats_in_Portugal',3577,6,0),(2,'Wikipedia:Afbeelding_gewenst',126,7,0),(3,'Spionageroman',16,2,0),(4,'Ridderorde_in_Polen',16,1,0),(5,'Nederlands_kunstenaar',481,24,0),(6,'Nederlands_kunstschilder',2203,5,0),(7,'Wikipedia:Werk_in_uitvoering',17,0,0),(8,'South_Park',17,2,0)\n",
    "```"
   ]
  },
  {
   "cell_type": "markdown",
   "metadata": {},
   "source": [
    "* Als we de tabel vergelijken met bijvoorbeeld <https://nl.wikipedia.org/wiki/Albert_Speer> zien we dat er alleen instaat welke categorien elke pagina bevat.\n",
    "* We hebben nog niet de boom zelf."
   ]
  },
  {
   "cell_type": "code",
   "execution_count": 4,
   "metadata": {
    "collapsed": false
   },
   "outputs": [
    {
     "name": "stdout",
     "output_type": "stream",
     "text": [
      "--2016-07-28 10:44:48--  https://dumps.wikimedia.org/nlwiki/20160720/nlwiki-20160720-pages-articles1.xml.bz2\n",
      "Resolving dumps.wikimedia.org... 208.80.154.11, 2620::861:1:208:80:154:11\n",
      "Connecting to dumps.wikimedia.org|208.80.154.11|:443... connected.\n",
      "WARNING: cannot verify dumps.wikimedia.org's certificate, issued by `/C=BE/O=GlobalSign nv-sa/CN=GlobalSign Organization Validation CA - SHA256 - G2':\n",
      "  Unable to locally verify the issuer's authority.\n",
      "HTTP request sent, awaiting response... 200 OK\n",
      "Length: 152370024 (145M) [application/octet-stream]\n",
      "Saving to: `nlwiki-20160720-pages-articles1.xml.bz2'\n",
      "\n",
      "100%[======================================>] 152,370,024 1.95M/s   in 74s     \n",
      "\n",
      "2016-07-28 10:46:03 (1.97 MB/s) - `nlwiki-20160720-pages-articles1.xml.bz2' saved [152370024/152370024]\n",
      "\n"
     ]
    }
   ],
   "source": [
    "# We kunnen ook alle artikelen ophalen.\n",
    "# Dit hier is de grootste: er zijn ook veel kleinere. Begin daar liever mee te werken.\n",
    "\n",
    "!wget --no-check-certificate  https://dumps.wikimedia.org/nlwiki/20160720/nlwiki-20160720-pages-articles1.xml.bz2"
   ]
  },
  {
   "cell_type": "code",
   "execution_count": 73,
   "metadata": {
    "collapsed": false
   },
   "outputs": [
    {
     "name": "stdout",
     "output_type": "stream",
     "text": [
      "\r\n",
      "bzcat: I/O or other error, bailing out.  Possible reason follows.\r\n",
      "bzcat: Broken pipe\r\n",
      "\tInput file = nlwiki-20150602-pages-articles.xml.bz2, output file = (stdout)\r\n"
     ]
    }
   ],
   "source": [
    "# This is a huge file, we just want to inspect it now, and so only decompress the first 10.000 lines\n",
    "# Run this in the shell. From here you get an error\n",
    "!bzcat \"nlwiki-20150602-pages-articles.xml.bz2\" |head -10000 > small.xml"
   ]
  },
  {
   "cell_type": "code",
   "execution_count": 5,
   "metadata": {
    "collapsed": false
   },
   "outputs": [
    {
     "name": "stdout",
     "output_type": "stream",
     "text": [
      "<mediawiki xmlns=\"http://www.mediawiki.org/xml/export-0.10/\" xmlns:xsi=\"http://www.w3.org/2001/XMLSchema-instance\" xsi:schemaLocation=\"http://www.mediawiki.org/xml/export-0.10/ http://www.mediawiki.org/xml/export-0.10.xsd\" version=\"0.10\" xml:lang=\"nl\">\r\n",
      "  <siteinfo>\r\n",
      "    <sitename>Wikipedia</sitename>\r\n",
      "    <dbname>nlwiki</dbname>\r\n",
      "    <base>http://nl.wikipedia.org/wiki/Hoofdpagina</base>\r\n",
      "    <generator>MediaWiki 1.26wmf7</generator>\r\n",
      "    <case>first-letter</case>\r\n",
      "    <namespaces>\r\n",
      "      <namespace key=\"-2\" case=\"first-letter\">Media</namespace>\r\n",
      "      <namespace key=\"-1\" case=\"first-letter\">Speciaal</namespace>\r\n",
      "      <namespace key=\"0\" case=\"first-letter\" />\r\n",
      "      <namespace key=\"1\" case=\"first-letter\">Overleg</namespace>\r\n",
      "      <namespace key=\"2\" case=\"first-letter\">Gebruiker</namespace>\r\n",
      "      <namespace key=\"3\" case=\"first-letter\">Overleg gebruiker</namespace>\r\n",
      "      <namespace key=\"4\" case=\"first-letter\">Wikipedia</namespace>\r\n",
      "      <namespace key=\"5\" case=\"first-letter\">Overleg Wikipedia</namespace>\r\n",
      "      <namespace key=\"6\" case=\"first-letter\">Bestand</namespace>\r\n",
      "      <namespace key=\"7\" case=\"first-letter\">Overleg bestand</namespace>\r\n",
      "      <namespace key=\"8\" case=\"first-letter\">MediaWiki</namespace>\r\n",
      "      <namespace key=\"9\" case=\"first-letter\">Overleg MediaWiki</namespace>\r\n",
      "      <namespace key=\"10\" case=\"first-letter\">Sjabloon</namespace>\r\n",
      "      <namespace key=\"11\" case=\"first-letter\">Overleg sjabloon</namespace>\r\n",
      "      <namespace key=\"12\" case=\"first-letter\">Help</namespace>\r\n",
      "      <namespace key=\"13\" case=\"first-letter\">Overleg help</namespace>\r\n",
      "      <namespace key=\"14\" case=\"first-letter\">Categorie</namespace>\r\n",
      "      <namespace key=\"15\" case=\"first-letter\">Overleg categorie</namespace>\r\n",
      "      <namespace key=\"100\" case=\"first-letter\">Portaal</namespace>\r\n",
      "      <namespace key=\"101\" case=\"first-letter\">Overleg portaal</namespace>\r\n",
      "      <namespace key=\"446\" case=\"first-letter\">Onderwijsprogramma</namespace>\r\n",
      "      <namespace key=\"447\" case=\"first-letter\">Overleg onderwijsprogramma</namespace>\r\n",
      "      <namespace key=\"828\" case=\"first-letter\">Module</namespace>\r\n",
      "      <namespace key=\"829\" case=\"first-letter\">Overleg module</namespace>\r\n",
      "    </namespaces>\r\n",
      "  </siteinfo>\r\n",
      "  <page>\r\n",
      "    <title>Albert Speer</title>\r\n",
      "    <ns>0</ns>\r\n",
      "    <id>1</id>\r\n",
      "    <revision>\r\n",
      "      <id>43561437</id>\r\n",
      "      <parentid>43308074</parentid>\r\n",
      "      <timestamp>2015-03-14T18:47:32Z</timestamp>\r\n",
      "      <contributor>\r\n",
      "        <ip>94.210.139.56</ip>\r\n",
      "      </contributor>\r\n",
      "      <model>wikitext</model>\r\n",
      "      <format>text/x-wiki</format>\r\n",
      "      <text xml:space=\"preserve\">{{Zie artikel|Zie [[Albert Speer (junior)|Albert Speer jr.]] voor de zoon van Albert Speer, ook een Duits planoloog.}}\r\n",
      "{{Infobox persoon Tweede Wereldoorlog\r\n",
      "| naam=Albert Speer\r\n",
      "| afbeelding=Albert Speer Neurenberg.JPG\r\n",
      "| onderschrift=Speer op het [[Proces van Neurenberg]] (1945-1946)\r\n",
      "| gbdat=19 maart 1905\r\n",
      "| sterfdat=1 september 1981\r\n",
      "| geslacht=Man\r\n",
      "| gbplaats=Mannheim\r\n",
      "| sterfplaats=Londen\r\n",
      "| zijde=Nazi-Duitsland\r\n",
      "| org=NSDAP\r\n",
      "| spfunc=Minister van Bewapening en Munitie\r\n",
      "| rang=\r\n",
      "}}\r\n",
      "'''Berthold Konrad Hermann Albert Speer''' ([[Mannheim]], [[19 maart]] [[1905]] – [[Londen]], [[1 september]] [[1981]]) was een [[Duitsland|Duits]] [[architect]] en tijdens de [[nationaalsocialisme|nazi-heerschappij]] over Duitsland (1933-1945) achtereenvolgens rijksbouwmeester en minister van bewapening. Door zijn vriendschap met de dictator [[Adolf Hitler]] en zijn ministerschap gold hij als een van de machtigste mannen van het [[nazi-Duitsland|Derde Rijk]].&lt;ref&gt;[http://www.conne-island.de/nf/109/25.html Conne Island - CEE IEH #109, dokumentation: Eine ganz normale Deutsche Familie&lt;!-- Botmatig gegenereerde titel --&gt;]&lt;/ref&gt; In [[processen van Neurenberg|Neurenberg]] werd Speer tot twintig jaar gevangenisstraf veroordeeld. Van zijn zes kinderen is er één, [[Albert Speer (junior)|Albert Speer jr.]] (geboren in [[1934]]), na de oorlog eveneens een bekend architect en stadsplanner geworden.\r\n",
      "\r\n",
      "== Voor 1933 ==\r\n",
      "Het gezin waarin Speer werd geboren, was wat ze in het Duits noemen 'grossbürgerlich'; in Nederlandse termen &quot;gegoede [[burgerij]]&quot; of &quot;bourgeoisie&quot;. Zijn vader en grootvader waren beiden architecten. Om financiële redenen studeerde Speer aanvankelijk in [[Karlsruhe (stad)|Karlsruhe]]. Van de lente van [[1924]] tot de zomer van [[1925]] zette hij zijn studie vervolgens voort aan de technische hogeschool van [[München]]. In de herfst van 1925 verhuisde hij naar [[Berlijn]] en probeerde hij vergeefs aan de [[Technische Universiteit Berlijn|Technische Hogeschool]] in [[Berlin-Charlottenburg|Berlijn-Charlottenburg]] in het seminarie van [[Hans Poelzig]] toegelaten te worden. In [[1926]] ontving [[Heinrich Tessenow]], een architect van de behoudende school met een zeer bescheiden en niet megalomane stijl, een leerstoel. Speer werd in dat jaar één van zijn studenten. Na zijn diploma te hebben behaald in [[1927]] bleef Speer nog meerdere jaren, als Tessenows assistent, aan de hogeschool verbonden.\r\n",
      "\r\n",
      "== In dienst van Hitler ==\r\n",
      "[[Bestand:Bundesarchiv Bild 183-V00555-3, Obersalzberg, Albert Speer, Adolf Hitler.jpg|thumb|260px|Speer en Hitler gebogen over een architectonische tekening.]]\r\n",
      "Speer was niet bijzonder geïnteresseerd in [[politiek]]. Hij werd echter reeds in januari [[1931]] lid van de [[Nationaalsocialistische Duitse Arbeiderspartij|NSDAP]] nadat hij in december [[1930]] een toespraak van Adolf Hitler had bijgewoond in de Berlijnse Hasenheide. Deze toespraak had een diepe indruk gemaakt op Speer. Zelf schreef hij dat hij een maand had getwijfeld, maar dat hij uiteindelijk toch besloten had om lid te worden, omdat Hitler helemaal niet [[stereotiep]] was overgekomen in de toespraak. Het was een zeer rustige toespraak waarin het woord '[[Joden|Jood]]' niet één keer was gevallen.\r\n",
      "\r\n",
      "In [[1932]] verliet Speer Berlijn en ging terug naar Mannheim. Hij vestigde zich daar als architect, maar hij kreeg geen opdrachten.\r\n",
      "In [[1934]] werd hem gevraagd de meivieringen van de partij vorm te geven. Speers originele idee was om rond het veld in [[Neurenberg]] waar de [[parade (militair)|parades]] werden afgenomen een reeks zoeklichten recht omhoog te laten schijnen. Hierdoor ontstond een mooi lichtspel wat een 'koepel van licht' boven het paradeveld veroorzaakte. Hitler was hierover zeer enthousiast en zo werd Speer Hitlers 'huisarchitect'.\r\n",
      "\r\n",
      "Toen Hitlers toenmalige 'Hofarchitekt', de uit München afkomstige [[Paul Ludwig Troost]], in 1934 overleed, nam Speer diens taken over. Speer ontwierp talrijke gebouwen in klassieke stijl, die als doel hadden de pracht en de macht van het Derde Rijk te tonen en te onderstrepen. In het [[Deutsche Arbeitsfront]] (DAF) leidde hij de afdeling 'Schönheit der Arbeit'. Verder werd hij de chef van de onderafdeling van de Rijkspropagandaleiding en verantwoordelijk voor de stedenbouw in de staf van [[Rudolf Hess]].\r\n",
      "\r\n",
      "Voor de [[wereldtentoonstelling van 1937]] in [[Parijs]] ontwierp hij het Duitse paviljoen. Het hoofdbestanddeel bestond uit een enorme toren in classicistische stijl met een grote Duitse adelaar erop. Speer kreeg er de 'Grand Prix' voor de organisatie van de partijdagen van de NSDAP in Neurenberg en de gouden medaille ter beloning voor het paviljoen.\r\n",
      "\r\n",
      "In 1937 werd hij benoemd tot 'regeringscommissaris voor de bouw in de staf van de Führer' en 'inspecteur-generaal voor de bouwnijverheid in Berlijn'. Zijn ontwerpen waren naar de smaak van Hitler die hield van gebouwen in een [[Neoclassicistische architectuur|neoclassicistische stijl]] met een [[Minimalisme (architectuur)|minimalistische]] uitstraling maar dan vergroot tot onmenselijke afmetingen. Voor de spaarzame aankleding wilde Hitler het liefst de klassieke 'Arische' beelden gebruiken die [[Arno Breker]] maakte, een beeldhouwer die bewonderd werd door hem. Vooral voor Berlijn had Hitler grootse plannen. Deze stad zou na de 'Endsieg' herdoopt worden in ''[[Welthauptstadt Germania|Germania]]'' (overigens is Speer de enige bron die dit beweerde) en met talloze pompeuze bouwwerken en brede boulevards wilde Hitler aan zijn hoofdstad een enorme grandeur geven. Hitlers en Speers megalomane motto was ''hoe groter hoe beter''. Er werden voor de [[Tweede Wereldoorlog]] al stabiliteitstesten in de moerassige grond van Berlijn ondernomen om te kijken of deze het enorme gewicht van de geplande gebouwen kon dragen. Tevens werd een begin gemaakt met het aanleggen van de weids opgezette boulevards. In [[1938]] en [[1939]] werd in recordtijd de bouw van de nieuwe [[Rijkskanselarij]] aan de Wilhelmstrasse en de Voßstraße voltooid. Speer toonde zich hier al als een goede bouworganisator. Het bouwwerk met gigantische afmetingen (het geheel mat 200 ha) was voor Hitler een 'representatieve' plaats om de buitenlandse gasten en diplomaten te ontvangen. Zij moesten op deze wijze onder de indruk raken van de grootsheid van het Duitse Rijk. Het merkwaardigste onderdeel van het geheel betrof een lange rechte galerij van 146 m lengte,twee maal groter dan de spiegelzaal in Versailles van 73 meter, met een spiegelgladde vloer die leidde naar de persoonlijke ontvangstruimten van Hitler; deze &quot;straat&quot; werd &quot;der lange Marsch der Diplomaten&quot; genoemd. Sommigen maakten de opmerking dat de gladde vloer eigenlijk wel gevaarlijk was om op te lopen. Hitler wimpelde deze bezwaren weg met de woorden: 'Diplomaten zijn wel gewend om zich op glad ijs te begeven'. Door het uitbreken van de oorlog moesten verdere plannen echter opgeschort worden. Gereed kwamen wel het vliegveld [[Luchthaven Berlin-Tempelhof|Tempelhof]] dat nog steeds een van de grootste luchthavengebouwen ter wereld heeft. Ook het nog steeds gebruikte Olympisch Stadion van 1936 was een onderdeel van de herbouw van Berlijn. Hitlers nieuwe kanselarij werd tijdens de eindstrijd in 1945 zwaar beschadigd en kort na de oorlog afgebroken.\r\n",
      "\r\n"
     ]
    }
   ],
   "source": [
    "!head -80 NLWikipedia/small.xml\n",
    "\n"
   ]
  },
  {
   "cell_type": "markdown",
   "metadata": {},
   "source": [
    "### Extracting information with Beautifulsoup\n",
    "\n",
    "* Dit is een makkelijke Python module om met HTML en XML fies om te gaan.\n",
    "* Hieronder zie je wat voorbeelden\n",
    "\n",
    "### Extracting information with lxml\n",
    "* Dit werkt net wat lastiger maar is wel veel stabieler en kan ook joekels van files aan.\n",
    "* Je hoeft zelfs een file niet eerst te \"ontzippen\", maar kan hem stromend in lxml inlezen.\n",
    "* Dat betekent dat je niet snel geheugen problemen zal hebben: want jij hoeft maar steeds 1 pagina in geheugen te hebben.\n",
    "* Dit is een deel van mijn antwoord:\n",
    "* Je ziet dat je rekening moet houden met de namespaces (dat hoeft in Beautifulsoup niet).\n",
    "* Alles werkt net wat lastiger dan in BeautifulSoup, maar het schaalt wel.\n",
    "\n",
    "```\n",
    "from lxml import etree as et\n",
    "from bz2file import BZ2File\n",
    "\n",
    "def create_page_category_dict(f):\n",
    "    with BZ2File(f) as xml_file:\n",
    "        context = etree.iterparse(xml_file)\n",
    "        \n",
    "        pages_categories_dict={} \n",
    "        for action, elem in context:\n",
    "             if elem.tag== '{http://www.mediawiki.org/xml/export-0.10/}page':\n",
    "                title=  \n",
    "                pagetext=  \n",
    "                cats= find_categories(pagetext) # own function which extract the categories from the text of a page using a regular expression\n",
    "                pages_categories_dict[title]=cats # update the dict\n",
    "        return pages_categories_dict\n",
    "\n",
    "# call it (it took 1 minute on my macbook pro)\n",
    "%time ef= create_page_category_dict('nlwiki-20150602-pages-articles1.xml.bz2')\n",
    "```"
   ]
  },
  {
   "cell_type": "code",
   "execution_count": 6,
   "metadata": {
    "collapsed": false
   },
   "outputs": [],
   "source": [
    "# http://www.crummy.com/software/BeautifulSoup/bs4/doc/\n",
    "from bs4 import BeautifulSoup\n",
    "small= open(\"NLWikipedia/small.xml\")\n",
    "soup = BeautifulSoup(small)"
   ]
  },
  {
   "cell_type": "code",
   "execution_count": 7,
   "metadata": {
    "collapsed": false
   },
   "outputs": [
    {
     "data": {
      "text/plain": [
       "[<title>Albert Speer</title>,\n",
       " <title>Andre Agassi</title>,\n",
       " <title>Groen (partij)</title>,\n",
       " <title>Anthony Fokker</title>,\n",
       " <title>Albert Plesman</title>,\n",
       " <title>Alan Turing</title>,\n",
       " <title>Algoritme</title>,\n",
       " <title>Alpen</title>,\n",
       " <title>Antwerpen (stad)</title>,\n",
       " <title>Astronomie</title>]"
      ]
     },
     "execution_count": 7,
     "metadata": {},
     "output_type": "execute_result"
    }
   ],
   "source": [
    "# list first ten  pages in our small dump\n",
    "soup.findAll('title')[:10]"
   ]
  },
  {
   "cell_type": "code",
   "execution_count": 40,
   "metadata": {
    "collapsed": false
   },
   "outputs": [
    {
     "data": {
      "text/plain": [
       "u'{{Zie artikel|Zie [[Albert Speer (junior)|Albert Speer jr.]] voor de zoon van Albert Speer, ook een Duits planoloog.}}\\n{{Infobox persoon Tweede Wereldoorlog\\n| naam=Albert Speer\\n| afbeelding=Albert Speer Neurenberg.JPG\\n| onderschrift=Speer op het [[Proces van Neurenberg]] (1945-1946)\\n| gbdat=19 maart 1905\\n| sterfdat=1 september 1981\\n| geslacht=Man\\n| gbplaats=Mannheim\\n| sterfplaats=Londen\\n| zijde=Nazi-Duitsland\\n| org=NSDAP\\n| spfunc=Minister van Bewapening en Munitie\\n| rang=\\n}}\\n\\'\\'\\'Berthold Konrad Hermann Albert Speer\\'\\'\\' ([[Mannheim]], [[19 maart]] [[1905]] \\u2013 [[Londen]], [[1 september]] [[1981]]) was een [[Duitsland|Duits]] [[architect]] en tijdens de [[nationaalsocialisme|nazi-heerschappij]] over Duitsland (1933-1945) achtereenvolgens rijksbouwmeester en minister van bewapening. Door zijn vriendschap met de dictator [[Adolf Hitler]] en zijn ministerschap gold hij als een van de machtigste mannen van het [[nazi-Duitsland|Derde Rijk]].<ref>[http://www.conne-island.de/nf/109/25.html Conne Island - CEE IEH #109, dokumentation: Eine ganz normale Deutsche Familie<!-- Botmatig gegenereerde titel -->]</ref> In [[processen van Neurenberg|Neurenberg]] werd Speer tot twintig jaar gevangenisstraf veroordeeld. Van zijn zes kinderen is er \\xe9\\xe9n, [[Albert Speer (junior)|Albert Speer jr.]] (geboren in [[1934]]), na de oorlog eveneens een bekend architect en stadsplanner geworden.\\n\\n== Voor 1933 ==\\nHet gezin waarin Speer werd geboren, was wat ze in het Duits noemen \\'grossb\\xfcrgerlich\\'; in Nederlandse termen \"gegoede [[burgerij]]\" of \"bourgeoisie\". Zijn vader en grootvader waren beiden architecten. Om financi\\xeble redenen studeerde Speer aanvankelijk in [[Karlsruhe (stad)|Karlsruhe]]. Van de lente van [[1924]] tot de zomer van [[1925]] zette hij zijn studie vervolgens voort aan de technische hogeschool van [[M\\xfcnchen]]. In de herfst van 1925 verhuisde hij naar [[Berlijn]] en probeerde hij vergeefs aan de [[Technische Universiteit Berlijn|Technische Hogeschool]] in [[Berlin-Charlottenburg|Berlij'"
      ]
     },
     "execution_count": 40,
     "metadata": {},
     "output_type": "execute_result"
    }
   ],
   "source": [
    "pages= soup.findAll('page')\n",
    "\n",
    "page_infobox_dict = {p.title.text:p.find('text') for p in pages}\n",
    "   \n",
    "speertext=page_infobox_dict['Albert Speer']\n",
    "\n",
    "speertext.text[:2000]"
   ]
  },
  {
   "cell_type": "markdown",
   "metadata": {},
   "source": [
    " \n",
    " \n",
    "\n"
   ]
  },
  {
   "cell_type": "code",
   "execution_count": null,
   "metadata": {
    "collapsed": true
   },
   "outputs": [],
   "source": []
  }
 ],
 "metadata": {
  "anaconda-cloud": {},
  "kernelspec": {
   "display_name": "Python [default]",
   "language": "python",
   "name": "python2"
  },
  "language_info": {
   "codemirror_mode": {
    "name": "ipython",
    "version": 2
   },
   "file_extension": ".py",
   "mimetype": "text/x-python",
   "name": "python",
   "nbconvert_exporter": "python",
   "pygments_lexer": "ipython2",
   "version": "2.7.12"
  }
 },
 "nbformat": 4,
 "nbformat_minor": 0
}
