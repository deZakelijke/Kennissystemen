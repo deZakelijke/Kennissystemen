{
 "cells": [
  {
   "cell_type": "markdown",
   "metadata": {},
   "source": [
    "# Assignment  week 5  "
   ]
  },
  {
   "cell_type": "markdown",
   "metadata": {},
   "source": [
    "## Notebook made by   (If not filled in correctly: 0 pts for assignment)\n",
    "\n",
    "__Name(s)__: Micha de Groot\n",
    "\n",
    "__Student id(s)__ : 10434410\n",
    "\n",
    "__Email(s)__: studie@michadegroot.nl\n",
    "\n",
    "### Pledge (taken from [Coursera's Honor Code](https://www.coursera.org/about/terms/honorcode) )\n",
    "\n",
    "\n",
    "\n",
    "Put here a selfie with your photo where you hold a signed paper with the following text: (if this is team work, put two selfies here). The link must be to some place on the web, not to a local file. **Assignments without the selfies will not be graded and receive 0 points.**\n",
    "\n",
    "> My answers to homework, quizzes and exams will be my own work (except for assignments that explicitly permit collaboration).\n",
    "\n",
    ">I will not make solutions to homework, quizzes or exams available to anyone else. This includes both solutions written by me, as well as any official solutions provided by the course staff.\n",
    "\n",
    ">I will not engage in any other activities that will dishonestly improve my results or dishonestly improve/hurt the results of others.\n",
    "\n",
    "<img src='link to your selfie'/>"
   ]
  },
  {
   "cell_type": "markdown",
   "metadata": {},
   "source": [
    "## Questions\n",
    "\n",
    "###  Wordnet (50%, each exercise 10%)\n",
    "\n",
    "* Make Exercises: 5,13,14,26,27 from [WordNet from NLTK](http://www.nltk.org/book/ch02.html#wordnet) NLTK book Chapter 2\n",
    "\n",
    "### DBpedia spotlight (50%)\n",
    "\n",
    "1.  (25%) Create a program (preferably here in this notebook), which can read in a URL, extract the text, run DBPedia spotlight on it, and presents the results in an attractive manner. \n",
    "    * You can use the spotlight API, or run it locally. See <https://github.com/dbpedia-spotlight/dbpedia-spotlight/blob/master/README.md>\n",
    "    * Let the user have some control on the crucial parameters (like confidence, support, etc)\n",
    "    * It should work well on English language text.\n",
    "    * Have some good examples after your code, showing how things work\n",
    "2. (25%) You do a manual evaluation, as is also done in section 4.2 of the spotlight article.\n",
    "    * Manually annotate the following two articles. Indicate the phrases that are named entities, indicate their type, and (if there is any) indicate the wikipedia page in the English Wikipedia which is the best link for that entity.\n",
    "    * Then run DBpedia spotlight on it, and compare the results. Experiment with different settings of the parameters.\n",
    "    * Compute precision and recall for a few different settings, and plot a precison-recall curve (like Figure 3 in the spotlight article). \n",
    "    \n",
    "    * Artciles:\n",
    "        * <http://www.bbc.com/news/world-us-canada-33753067> until \"The deal at a glance\"\n",
    "        * <http://www.bbc.com/news/world-europe-33694773>\n",
    "\n",
    "\n"
   ]
  },
  {
   "cell_type": "markdown",
   "metadata": {
    "collapsed": true
   },
   "source": [
    "## My wordnet answers\n",
    "\n",
    "### Q 5 \n",
    "\n",
    "### Q 13 : 20,3 procent van de nouns heeft een hyponym dus 79,7 procent heeft geen hyponym\n",
    "\n",
    "### Q 14: Zie code, het voorbeeld werkt met ambulance\n",
    "\n",
    "### Q 26\n",
    "\n",
    "### Q 27\n",
    "\n",
    "\n",
    "etc"
   ]
  },
  {
   "cell_type": "code",
   "execution_count": 9,
   "metadata": {
    "collapsed": false
   },
   "outputs": [
    {
     "name": "stdout",
     "output_type": "stream",
     "text": [
      "showing info https://raw.githubusercontent.com/nltk/nltk_data/gh-pages/index.xml\n"
     ]
    },
    {
     "data": {
      "text/plain": [
       "True"
      ]
     },
     "execution_count": 9,
     "metadata": {},
     "output_type": "execute_result"
    }
   ],
   "source": [
    "import nltk\n",
    "nltk.download()"
   ]
  },
  {
   "cell_type": "code",
   "execution_count": 19,
   "metadata": {
    "collapsed": false,
    "scrolled": true
   },
   "outputs": [
    {
     "name": "stdout",
     "output_type": "stream",
     "text": [
      "79.6711928393\n"
     ]
    }
   ],
   "source": [
    "#Vraag 13\n",
    "\n",
    "from nltk.corpus import wordnet as wn\n",
    "\n",
    "nouns = wn.all_synsets(pos=\"n\")\n",
    "nrNouns = 0\n",
    "nrHyponyms = 0\n",
    "for synset in nouns:\n",
    "    nrNouns +=1\n",
    "    if not synset.hyponyms():\n",
    "            nrHyponyms +=1\n",
    "print nrHyponyms*100.0/nrNouns"
   ]
  },
  {
   "cell_type": "code",
   "execution_count": 18,
   "metadata": {
    "collapsed": false
   },
   "outputs": [
    {
     "name": "stdout",
     "output_type": "stream",
     "text": [
      "Synset('ambulance.n.01')[Synset('funny_wagon.n.01')][Synset('car.n.01')]\n"
     ]
    }
   ],
   "source": [
    "# Vraag 14\n",
    "\n",
    "from nltk.corpus import wordnet as wn\n",
    "\n",
    "def supergloss(synset):\n",
    "    hypStr = str(synset.hyponyms())\n",
    "    synStr = str(synset)\n",
    "    hyp2Str = str(synset.hypernyms())\n",
    "    return synStr + hypStr + hyp2Str\n",
    "\n",
    "word = wn.synsets(\"ambulance\")[0]\n",
    "\n",
    "gloss = supergloss(word)\n",
    "print gloss"
   ]
  },
  {
   "cell_type": "code",
   "execution_count": 22,
   "metadata": {
    "collapsed": false
   },
   "outputs": [
    {
     "name": "stdout",
     "output_type": "stream",
     "text": [
      "4.54382076319\n"
     ]
    }
   ],
   "source": [
    "# Vraag 26\n",
    "\n",
    "from nltk.corpus import wordnet as wn\n",
    "\n",
    "nouns = wn.all_synsets(pos=\"n\")\n",
    "nounsWithHyp = 0.0\n",
    "hyps = 0.0\n",
    "for synset in nouns:\n",
    "    if synset.hyponyms():\n",
    "        nounsWithHyp +=1\n",
    "        hyps += len(synset.hyponyms())\n",
    "        \n",
    "print hyps/nounsWithHyp"
   ]
  },
  {
   "cell_type": "markdown",
   "metadata": {},
   "source": [
    "## My Spotlight answers"
   ]
  },
  {
   "cell_type": "code",
   "execution_count": null,
   "metadata": {
    "collapsed": true
   },
   "outputs": [],
   "source": [
    "# code for annotating the text in a URL"
   ]
  },
  {
   "cell_type": "code",
   "execution_count": 3,
   "metadata": {
    "collapsed": false
   },
   "outputs": [
    {
     "data": {
      "text/plain": [
       "u'    \\n\\nUS & Canada\\n\\n\\n\\n\\n\\n            /*<![CDATA[*/\\n            (function() {\\n                if (window.bbcdotcom && bbcdotcom.adverts && bbcdotcom.adverts.slotAsync) {\\n                    bbcdotcom.adverts.slotAsync(\\'sponsor_section\\', [1,2,3,4]);\\n                }\\n            })();\\n            /*]]>*/\\n        \\n\\n\\n   \\n\\nClimate change: Obama unveils Clean Power Plan\\n\\n\\n 3 August 2015\\n\\nFrom the section US & Canada\\n comments\\n\\n\\n\\n\\n\\n\\n\\n\\n\\n\\n\\n\\n\\n\\n\\n\\nShare\\n\\n\\nShare this with\\n\\n\\n\\n\\nEmail\\nShare this with Email\\n\\n\\n\\n\\n\\nFacebook\\nShare this with Facebook\\n\\n\\n\\n\\n\\nMessenger\\nShare this with Messenger\\n\\n\\n\\n\\n\\nMessenger\\nShare this with Messenger\\n\\n\\n\\n\\n\\nTwitter\\nShare this with Twitter\\n\\n\\n\\n\\n\\nPinterest\\nShare this with Pinterest\\n\\n\\n\\n\\n\\nWhatsApp\\nShare this with WhatsApp\\n\\n\\n\\n\\n\\nLinkedin\\nShare this with Linkedin\\n\\n\\n\\nCopy this link\\n\\nhttp://www.bbc.com/news/world-us-canada-33753067\\n\\nRead more about sharing.\\n\\nClose share panel\\n\\xd7\\n\\n\\n\\n\\n\\n\\n\\n\\n\\n\\n\\nMedia captionPresident Obama: \"I believe there is such a thing as being too late\"\\nUS President Barack Obama has unveiled what he called \"the biggest, most important step we have ever taken\" in tackling climate change.The aim of the revised Clean Power Plan is to cut greenhouse gas emissions from US power stations by nearly a third within 15 years.The measures will place significant emphasis on wind and solar power and other renewable energy sources.However, opponents in the energy industry have vowed to fight the plan.\"I\\'m convinced no challenge provides a greater threat to the future of the planet,\" Mr Obama said. \"There is such a thing as being too late.\"\\n\\n\\n            /**/\\n            (function() {\\n                if (window.bbcdotcom && bbcdotcom.adverts && bbcdotcom.adverts.slotAsync) {\\n                    bbcdotcom.adverts.slotAsync(\\'mpu\\', [1,2,3]);\\n                }\\n            })();\\n            /**/\\n        \\n\\nThose opponents say Mr Obama has declared \"a war on coal\". Power plants fired by coal provide more than a third of the US electricity supply.The revised plan will aim to cu'"
      ]
     },
     "execution_count": 3,
     "metadata": {},
     "output_type": "execute_result"
    }
   ],
   "source": [
    "#Example to get you going:\n",
    "# code for annotating the text in a URL\n",
    "\n",
    "import requests  # http://docs.python-requests.org/en/latest/\n",
    "import json\n",
    "from bs4 import BeautifulSoup\n",
    "\n",
    "url='http://www.bbc.com/news/world-us-canada-33753067'\n",
    "\n",
    "bbc= requests.get(url)\n",
    "\n",
    "soup= BeautifulSoup(bbc.text,\"lxml\") \n",
    "article=soup.find(\"div\", { \"id\" : \"page\" })  # this expression should be improved to get just the text from the article\n",
    "article_text= article.text\n",
    "article_text[:2000]"
   ]
  },
  {
   "cell_type": "markdown",
   "metadata": {},
   "source": [
    "# My annotations of the two articles\n",
    "\n",
    "## Links to annotated HTML/PDFs\n",
    "* Use colored markers to indicate which entities you extracted for linking, using color to indicate their type.\n",
    "\n",
    "## Entities and their links\n",
    "* We  use a similar output format as used by Spotlight."
   ]
  },
  {
   "cell_type": "code",
   "execution_count": 3,
   "metadata": {
    "collapsed": true
   },
   "outputs": [],
   "source": [
    "# Code for computing precision and recall and making the plots"
   ]
  },
  {
   "cell_type": "markdown",
   "metadata": {},
   "source": [
    "# Example code : show a pdf or picture in your notebook\n",
    "\n",
    "\n",
    "\n",
    "![Alttext](http://ichef-1.bbci.co.uk/news/624/cpsprodpb/75D4/production/_84646103_f65c0f56-d67b-4af7-9180-46131adbc1d0.jpg)\n",
    "\n",
    "<!--  You can also use all of HTML, including commenting out like we do here \n",
    "\n",
    "<img src='http://ichef-1.bbci.co.uk/news/624/cpsprodpb/75D4/production/_84646103_f65c0f56-d67b-4af7-9180-46131adbc1d0.jpg'/>\n",
    "\n",
    "-->"
   ]
  },
  {
   "cell_type": "code",
   "execution_count": 1,
   "metadata": {
    "collapsed": false
   },
   "outputs": [
    {
     "data": {
      "text/html": [
       "\n",
       "        <iframe\n",
       "            width=\"600\"\n",
       "            height=\"300\"\n",
       "            src=\"http://www.aclweb.org/anthology/P/P11/P11-1095.pdf\"\n",
       "            frameborder=\"0\"\n",
       "            allowfullscreen\n",
       "        ></iframe>\n",
       "        "
      ],
      "text/plain": [
       "<IPython.lib.display.IFrame at 0x7f25284c8550>"
      ]
     },
     "execution_count": 1,
     "metadata": {},
     "output_type": "execute_result"
    }
   ],
   "source": [
    "# Example: show a pdf or picture in your notebook\n",
    "from IPython.display import IFrame\n",
    "IFrame(\"http://www.aclweb.org/anthology/P/P11/P11-1095.pdf\", width=600, height=300)"
   ]
  },
  {
   "cell_type": "code",
   "execution_count": null,
   "metadata": {
    "collapsed": true
   },
   "outputs": [],
   "source": []
  }
 ],
 "metadata": {
  "anaconda-cloud": {},
  "kernelspec": {
   "display_name": "Python [default]",
   "language": "python",
   "name": "python2"
  },
  "language_info": {
   "codemirror_mode": {
    "name": "ipython",
    "version": 2
   },
   "file_extension": ".py",
   "mimetype": "text/x-python",
   "name": "python",
   "nbconvert_exporter": "python",
   "pygments_lexer": "ipython2",
   "version": "2.7.12"
  }
 },
 "nbformat": 4,
 "nbformat_minor": 0
}
